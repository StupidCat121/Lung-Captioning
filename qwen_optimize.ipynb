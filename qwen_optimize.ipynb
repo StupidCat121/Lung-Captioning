{
 "cells": [
  {
   "cell_type": "code",
   "execution_count": 1,
   "id": "1bb3164a",
   "metadata": {},
   "outputs": [
    {
     "name": "stdout",
     "output_type": "stream",
     "text": [
      "Python: 3.10.18\n",
      "Torch: 2.8.0+cu129\n",
      "Built with CUDA: 12.9\n",
      "CUDA available: True\n",
      "GPU: NVIDIA GeForce RTX 4050 Laptop GPU\n"
     ]
    }
   ],
   "source": [
    "import torch, platform\n",
    "\n",
    "print(\"Python:\", platform.python_version())\n",
    "print(\"Torch:\", torch.__version__)\n",
    "print(\"Built with CUDA:\", torch.version.cuda)\n",
    "print(\"CUDA available:\", torch.cuda.is_available())\n",
    "if torch.cuda.is_available():\n",
    "    print(\"GPU:\", torch.cuda.get_device_name(0))"
   ]
  },
  {
   "cell_type": "code",
   "execution_count": 2,
   "id": "250b279f",
   "metadata": {},
   "outputs": [
    {
     "name": "stderr",
     "output_type": "stream",
     "text": [
      "c:\\Users\\namth\\anaconda3\\envs\\lung_lora\\lib\\site-packages\\tqdm\\auto.py:21: TqdmWarning: IProgress not found. Please update jupyter and ipywidgets. See https://ipywidgets.readthedocs.io/en/stable/user_install.html\n",
      "  from .autonotebook import tqdm as notebook_tqdm\n"
     ]
    },
    {
     "name": "stdout",
     "output_type": "stream",
     "text": [
      "🦥 Unsloth: Will patch your computer to enable 2x faster free finetuning.\n"
     ]
    },
    {
     "name": "stderr",
     "output_type": "stream",
     "text": [
      "W1009 21:45:32.551000 20348 site-packages\\torch\\distributed\\elastic\\multiprocessing\\redirects.py:29] NOTE: Redirects are currently not supported in Windows or MacOs.\n"
     ]
    },
    {
     "name": "stdout",
     "output_type": "stream",
     "text": [
      "🦥 Unsloth Zoo will now patch everything to make training faster!\n",
      "==((====))==  Unsloth 2025.9.11: Fast Qwen2_5_Vl patching. Transformers: 4.56.2.\n",
      "   \\\\   /|    NVIDIA GeForce RTX 4050 Laptop GPU. Num GPUs = 1. Max memory: 5.997 GB. Platform: Windows.\n",
      "O^O/ \\_/ \\    Torch: 2.8.0+cu129. CUDA: 8.9. CUDA Toolkit: 12.9. Triton: 3.4.0\n",
      "\\        /    Bfloat16 = TRUE. FA [Xformers = 0.0.32.post2. FA2 = False]\n",
      " \"-____-\"     Free license: http://github.com/unslothai/unsloth\n",
      "Unsloth: Fast downloading is enabled - ignore downloading bars which are red colored!\n"
     ]
    },
    {
     "name": "stderr",
     "output_type": "stream",
     "text": [
      "The image processor of type `Qwen2VLImageProcessor` is now loaded as a fast processor by default, even if the model checkpoint was saved with a slow processor. This is a breaking change and may produce slightly different outputs. To continue using the slow processor, instantiate this class with `use_fast=False`. Note that this behavior will be extended to all models in a future release.\n"
     ]
    }
   ],
   "source": [
    "from unsloth import FastVisionModel\n",
    "import torch\n",
    "\n",
    "model, tokenizer = FastVisionModel.from_pretrained(\n",
    "    \"unsloth/Qwen2.5-VL-3B-Instruct-bnb-4bit\",\n",
    "    load_in_4bit = True,\n",
    "    use_gradient_checkpointing = \"unsloth\",\n",
    ")"
   ]
  },
  {
   "cell_type": "markdown",
   "id": "52830999",
   "metadata": {},
   "source": [
    "งานของคุณคือ VLM แบบ สองงานพร้อมกัน: (1) จัดหมวดโรคจากภาพ X-ray (classification) + (2) สร้างคำอธิบายภาพ (captioning) บนชุด 6,000 คู่ภาพ–ข้อความ\n",
    "\n",
    "อาการ “ทายโรคเดิมซ้ำ (เช่น normal) จนแม่นยำตกเหลือ ~0.17” มักมาจาก catastrophic forgetting / class collapse และ อิมบาลานซ์ของสัญญาณเรียนรู้ (ส่วนภาษา/แคปชันกลบงานจัดหมวด)\n",
    "\n",
    "เป้าหมายแพทย์รังสี = ให้ “สายภาพ” เรียนรู้เด่นกว่า “สายภาษา” เพื่อไม่ให้โมเดลลื่นไปตอบคำอธิบายสวยๆ แต่ ไม่จับพยาธิสภาพ\n",
    "\n",
    "ดังนั้นให้ “เริ่มแบบอนุรักษ์นิยม”: ฝึกเฉพาะ vision + cross-attention ก่อน, คุม LoRA ขนาดกลาง, ใส่ dropout ป้องกัน overfit, เปิด rsLoRA ให้เรียนรู้เสถียรขึ้น โดยเฉพาะกับโมเดลใหญ่/ข้อมูลไม่มาก (6k)."
   ]
  },
  {
   "cell_type": "code",
   "execution_count": 3,
   "id": "de9df6c9",
   "metadata": {},
   "outputs": [
    {
     "name": "stderr",
     "output_type": "stream",
     "text": [
      "Unsloth: Dropout = 0 is supported for fast patching. You are using dropout = 0.15.\n",
      "Unsloth will patch all other layers, except LoRA matrices, causing a performance hit.\n"
     ]
    }
   ],
   "source": [
    "# ==========================\n",
    "# 1) PEFT / LoRA config (ปรับตามโจทย์ 2 งาน: cls + cap)\n",
    "#    - เปิดทั้ง vision + attention เพื่อเรียนรู้สัมพันธ์ภาพ-ข้อความ\n",
    "#    - รอบแรก \"กัน drift ภาษา\" ด้วยการปิด language MLP; จะค่อย ๆ เปิดในรอบถัดไปได้\n",
    "#    - ใช้ rsLoRA เพื่อเสถียรกับ rank สูง\n",
    "# ==========================\n",
    "model = FastVisionModel.get_peft_model(\n",
    "    model,\n",
    "    finetune_vision_layers     = True,    # ✅ ให้สายภาพเรียนรู้พยาธิสภาพ/feature เฉพาะทาง\n",
    "    finetune_language_layers   = False,   # ✅ รอบแรกกัน drift ภาษา (ยัง generate ได้ เพราะ head/weights ถูกใช้ตอน infer)\n",
    "    finetune_attention_modules = True,    # ✅ สำคัญมากสำหรับ cross-modal alignment (ภาพ↔ข้อความ)\n",
    "    finetune_mlp_modules       = False,   # ✅ ลดพารามิเตอร์ช่วงเริ่ม กัน overfit / catastrophic forgetting\n",
    "\n",
    "    r = 16,                # ✅ เริ่มที่ 16; ถ้า underfit ค่อยขยับ 32 พร้อม rsLoRA\n",
    "    lora_alpha = 16,       # ✅ อย่างน้อยเท่ากับ r ตามคำแนะนำ Unsloth\n",
    "    lora_dropout = 0.15,   # ✅ ช่วยกัน overfit/โหมดเดิม (เช่นตอบ \"Normal\" รัว ๆ)\n",
    "    bias = \"none\",\n",
    "    random_state = 3407,\n",
    "\n",
    "    use_rslora = True,     # ✅ เสถียรกับ rank สูง/งานยาก\n",
    "    loftq_config = None,   # ✅ ถ้าเทรน 4-bit แนะนำเปิด LoftQ โปรไฟล์ C เพื่อคุณภาพ\n",
    "    # target_modules = [\"q_proj\",\"k_proj\",\"v_proj\",\"o_proj\"],  # ↔ ถ้าจะเริ่มเฉพาะ attention เท่านั้น ค่อยปลดคอมเมนต์\n",
    ")"
   ]
  },
  {
   "cell_type": "code",
   "execution_count": 7,
   "id": "af421c18",
   "metadata": {},
   "outputs": [],
   "source": [
    "from datasets import load_from_disk\n",
    "\n",
    "hf = load_from_disk(\"lung8_image_text_balanced\")\n",
    "\n",
    "# แบ่ง train/test (30%) ก่อน\n",
    "splits = hf.train_test_split(test_size=0.3, seed=42, shuffle=True)\n",
    "train_hf = splits[\"train\"]\n",
    "tmp_hf   = splits[\"test\"]\n",
    "\n",
    "# แบ่ง tmp ให้เป็น val/test อย่างละครึ่ง → ได้ 15/15\n",
    "vt = tmp_hf.train_test_split(test_size=0.99, seed=42, shuffle=True)\n",
    "val_hf  = vt[\"train\"]\n",
    "test_hf = vt[\"test\"]"
   ]
  },
  {
   "cell_type": "code",
   "execution_count": 8,
   "id": "3751e5cb",
   "metadata": {},
   "outputs": [
    {
     "data": {
      "text/plain": [
       "Dataset({\n",
       "    features: ['image', 'text', '__class__'],\n",
       "    num_rows: 5600\n",
       "})"
      ]
     },
     "execution_count": 8,
     "metadata": {},
     "output_type": "execute_result"
    }
   ],
   "source": [
    "train_hf"
   ]
  },
  {
   "cell_type": "code",
   "execution_count": 10,
   "id": "30be106a",
   "metadata": {},
   "outputs": [
    {
     "data": {
      "text/plain": [
       "Dataset({\n",
       "    features: ['image', 'text', '__class__'],\n",
       "    num_rows: 24\n",
       "})"
      ]
     },
     "execution_count": 10,
     "metadata": {},
     "output_type": "execute_result"
    }
   ],
   "source": [
    "val_hf"
   ]
  },
  {
   "cell_type": "code",
   "execution_count": 11,
   "id": "936a07ca",
   "metadata": {},
   "outputs": [],
   "source": [
    "instruction = \"Describe the chest X-ray using precise clinical terms. Identify one main diagnostic category from: Chest_Changes, Degenerative_Infectious, Higher_Density, Inflammatory_Pneumonia, Lower_Density, Mediastinal_Changes, Normal, or Obstructive.\"\n",
    "\n",
    "def convert_to_conversation(sample):\n",
    "    cls_name = sample[\"__class__\"]\n",
    "    description = sample[\"text\"]\n",
    "\n",
    "    answer = f\"Class: {cls_name}\\nExplanation: {description}\"\n",
    "    \n",
    "    conversation = [\n",
    "        {\"role\": \"user\", \"content\" : [\n",
    "            {\"type\" : \"text\",  \"text\"  : instruction},\n",
    "            {\"type\" : \"image\", \"image\" : sample[\"image\"]} ]\n",
    "        },\n",
    "        {\"role\" : \"assistant\", \"content\" : [\n",
    "            {\"type\" : \"text\", \"text\" : answer} ]\n",
    "        },\n",
    "    ]\n",
    "    \n",
    "    return {\"messages\" : conversation}\n",
    "\n",
    "train_ds = [convert_to_conversation(sample) for sample in train_hf]\n",
    "val_ds = [convert_to_conversation(sample) for sample in val_hf]"
   ]
  },
  {
   "cell_type": "code",
   "execution_count": 12,
   "id": "17ea7b2b",
   "metadata": {},
   "outputs": [
    {
     "data": {
      "text/plain": [
       "{'messages': [{'role': 'user',\n",
       "   'content': [{'type': 'text',\n",
       "     'text': 'Describe the chest X-ray using precise clinical terms. Identify one main diagnostic category from: Chest_Changes, Degenerative_Infectious, Higher_Density, Inflammatory_Pneumonia, Lower_Density, Mediastinal_Changes, Normal, or Obstructive.'},\n",
       "    {'type': 'image',\n",
       "     'image': <PIL.JpegImagePlugin.JpegImageFile image mode=L size=450x450>}]},\n",
       "  {'role': 'assistant',\n",
       "   'content': [{'type': 'text',\n",
       "     'text': 'Class: Mediastinal_Changes\\nExplanation: Pulmonary AVM (feeding/draining vessel on CT) seen as well-circumscribed nodular opacity with suspected vascular connections may reflect pulmonary AVM (confirm on CT/angio). Findings are compatible with Arteriovenous malformations (pulmonary AVM may project as nodular opacity). The nodular opacity with associated vascular structures is a key diagnostic feature. Further imaging, such as a dedicated CT angiogram, is crucial for confirmation.'}]}]}"
      ]
     },
     "execution_count": 12,
     "metadata": {},
     "output_type": "execute_result"
    }
   ],
   "source": [
    "train_ds[0]"
   ]
  },
  {
   "cell_type": "markdown",
   "id": "8c7b610a",
   "metadata": {},
   "source": [
    "ค่า SFTTrainer ที่เหมาะสมต้อง “กันคลาสล่ม/ตอบซ้ำ normal” และ “คุมไม่ให้ captioning กลบงานจัดหมวด” โดยใช้แบตช์เอฟเฟกทีฟใหญ่พอ, อัตราเรียนรู้พอดี, ประเมินถี่, เซฟโมเดลที่ดีที่สุด และ (ถ้าทำได้) ถ่วงน้ำหนัก loss ให้ฝั่ง classification มากกว่า\n",
    "\n",
    "สำหรับ compute_metrics ไม่ “บังคับต้องมี” แต่ จำเป็นในทางปฏิบัติ เพื่อจับอาการคลาสล่ม/เดาทางเดียว (เช่น normal รัว ๆ) ด้วยสถิติที่สื่อความหมาย (accuracy/F1 ต่อคลาส, BLEU/CIDEr สำหรับแคปชัน) แทนจะดู loss อย่างเดียว "
   ]
  },
  {
   "cell_type": "code",
   "execution_count": 13,
   "id": "2942a405",
   "metadata": {},
   "outputs": [],
   "source": [
    "from unsloth import is_bf16_supported, FastVisionModel\n",
    "from unsloth.trainer import UnslothVisionDataCollator\n",
    "from transformers import EarlyStoppingCallback, TrainerCallback\n",
    "from trl import SFTTrainer, SFTConfig\n",
    "import torch, math, random\n",
    "import numpy as np\n",
    "from collections import Counter\n",
    "from typing import List, Dict, Any\n",
    "import re\n",
    "import unicodedata"
   ]
  },
  {
   "cell_type": "code",
   "execution_count": 14,
   "id": "6eae1dd3",
   "metadata": {},
   "outputs": [],
   "source": [
    "# ==========================\n",
    "# 2) ค่าตายตัวของงาน (label set) และตัวช่วยเล็ก ๆ\n",
    "# ==========================\n",
    "CLASS_LABELS = [\n",
    "    \"Chest_Changes\", \"Degenerative_Infectious\", \"Higher_Density\",\n",
    "    \"Inflammatory_Pneumonia\", \"Lower_Density\", \"Mediastinal_Changes\",\n",
    "    \"Normal\", \"Obstructive\",\n",
    "]\n",
    "LABEL_SET = set(CLASS_LABELS)\n",
    "LABEL_TO_ID = {c:i for i,c in enumerate(CLASS_LABELS)}\n",
    "\n",
    "def extract_pred_class(text: str) -> str:\n",
    "    \"\"\"\n",
    "    ดึงคลาสจากข้อความยาวของโมเดล:\n",
    "    รับมือกรณีมีช่องว่าง/เคส/บรรทัดสลับ/มีเครื่องหมายพิเศษ\n",
    "    \"\"\"\n",
    "    # หา \"Class: <ชื่อคลาส>\"\n",
    "    m = re.search(r\"(?i)class\\s*:\\s*([A-Za-z0-9_\\- ]+)\", text)\n",
    "    if not m:\n",
    "        return None\n",
    "    raw = m.group(1).strip()\n",
    "    # ทำ normalization เบื้องต้น\n",
    "    cand = raw.replace(\" \", \"_\")\n",
    "    # เช็ค map เข้าคลาสที่รู้จัก (แบบหยวนๆ)\n",
    "    # ลองตรงตัวก่อน\n",
    "    if cand in LABEL_TO_ID: \n",
    "        return cand\n",
    "    # ลองเปรียบเทียบแบบ lower-case\n",
    "    for c in CLASS_LABELS:\n",
    "        if cand.lower() == c.lower():\n",
    "            return c\n",
    "    # ถ้าหาไม่เจอให้คืน None เพื่อให้จัดเป็นผิดพลาด\n",
    "    return None\n"
   ]
  },
  {
   "cell_type": "code",
   "execution_count": 15,
   "id": "d59ebddf",
   "metadata": {},
   "outputs": [],
   "source": [
    "test_pred = \"\"\"\n",
    "Class: mEdiAsTinal cHanges\n",
    "Explanation: The chest X-ray shows increased transparency adjacent to both right and left cardiophrenic angles with variable clarity indicating partial atelectasis or pneumonia. This imaging feature suggests inflammatory change that is consistent with an underlying infectious etiology in this setting. The clinical scenario strongly supports infection leading to lung parenchymal changes. There are no visible effusions, mass lesions, or linear changes typical for entities like neoplasms or autoimmune conditions. The features are compatible with Degenerative_Infectious based on clinical and radiographic correlation, particularly considering the known clinical presentations associated with specific conditions in similar\n",
    "\"\"\""
   ]
  },
  {
   "cell_type": "code",
   "execution_count": 16,
   "id": "5b1528e8",
   "metadata": {},
   "outputs": [
    {
     "data": {
      "text/plain": [
       "'Mediastinal_Changes'"
      ]
     },
     "execution_count": 16,
     "metadata": {},
     "output_type": "execute_result"
    }
   ],
   "source": [
    "extract_pred_class(test_pred)"
   ]
  },
  {
   "cell_type": "code",
   "execution_count": 17,
   "id": "4fda2a4f",
   "metadata": {},
   "outputs": [],
   "source": [
    "def rouge_l_f1(pred: str, ref: str) -> float:\n",
    "    \"\"\"\n",
    "    ROUGE-L F1 แบบเรียบง่าย (ไม่พึ่ง external lib) ในช่วง [0,1]\n",
    "    ใช้เป็น proxy ของคุณภาพ captioning เมื่อยังไม่มี CIDEr\n",
    "    \"\"\"\n",
    "    # แปลงเป็น token ระดับคำแบบหยาบ ๆ\n",
    "    def tok(s): \n",
    "        return [w for w in s.strip().split() if w]\n",
    "    x, y = tok(pred.lower()), tok(ref.lower())\n",
    "    if not x or not y:\n",
    "        return 0.0\n",
    "    # LCS length (dynamic programming)\n",
    "    m, n = len(x), len(y)\n",
    "    dp = [[0]*(n+1) for _ in range(m+1)]\n",
    "    for i in range(m):\n",
    "        for j in range(n):\n",
    "            if x[i] == y[j]:\n",
    "                dp[i+1][j+1] = dp[i][j] + 1\n",
    "            else:\n",
    "                dp[i+1][j+1] = max(dp[i][j+1], dp[i+1][j])\n",
    "    lcs = dp[m][n]\n",
    "    prec = lcs / max(1, m)\n",
    "    rec  = lcs / max(1, n)\n",
    "    if prec + rec == 0:\n",
    "        return 0.0\n",
    "    return 2 * prec * rec / (prec + rec)\n"
   ]
  },
  {
   "cell_type": "code",
   "execution_count": 18,
   "id": "9a53fd5b",
   "metadata": {},
   "outputs": [],
   "source": [
    "ref_t = \"\"\"\n",
    "Class: Mediastinal_Changes\n",
    "Explanation: Findings are compatible with Arteriovenous malformations (pulmonary AVM may project as nodular opacity), characterized by well-circumscribed nodular opacity with suspected vascular connections may reflect pulmonary AVM (confirm on CT/angio). The nodular opacity warrants careful evaluation. Further imaging, such as a CT angiogram, is crucial for confirmation and characterization of feeding/draining vessels.\n",
    "\"\"\"\n",
    "\n",
    "ref_f = \"\"\"\n",
    "Class: Degenerative_Infectious\n",
    "Explanation: Reticulonodular pattern / interstitial fibrosis with coarse reticular opacities with volume loss, basilar and peripheral predominance (fibrotic pattern on CXR). Findings are compatible with Pulmonary fibrosis (e.g., IPF pattern on CXR). The reticular opacities are most evident in the lower lobes and periphery. There is associated volume loss and architectural distortion. These findings are highly suggestive of a fibrotic lung disease.\n",
    "\"\"\""
   ]
  },
  {
   "cell_type": "code",
   "execution_count": 19,
   "id": "fce834c3",
   "metadata": {},
   "outputs": [
    {
     "data": {
      "text/plain": [
       "0.09333333333333334"
      ]
     },
     "execution_count": 19,
     "metadata": {},
     "output_type": "execute_result"
    }
   ],
   "source": [
    "rouge_l_f1(test_pred, ref_t)"
   ]
  },
  {
   "cell_type": "code",
   "execution_count": 20,
   "id": "48fda8c7",
   "metadata": {},
   "outputs": [
    {
     "data": {
      "text/plain": [
       "0.125"
      ]
     },
     "execution_count": 20,
     "metadata": {},
     "output_type": "execute_result"
    }
   ],
   "source": [
    "rouge_l_f1(test_pred, ref_f)"
   ]
  },
  {
   "cell_type": "code",
   "execution_count": 21,
   "id": "81b6abb6",
   "metadata": {},
   "outputs": [],
   "source": [
    "def macro_f1_from_predictions(y_true: List[int], y_pred: List[int]) -> float:\n",
    "    \"\"\"\n",
    "    macro-F1 แบบไม่ต้องพึ่ง sklearn (เพื่อความ self-contained)\n",
    "    \"\"\"\n",
    "    num_classes = len(CLASS_LABELS)\n",
    "    # สร้าง confusion แบบนับ TP/FP/FN ต่อคลาส\n",
    "    tp = [0]*num_classes\n",
    "    fp = [0]*num_classes\n",
    "    fn = [0]*num_classes\n",
    "    for yt, yp in zip(y_true, y_pred):\n",
    "        if yp == yt:\n",
    "            tp[yt] += 1\n",
    "        else:\n",
    "            fp[yp] += 1\n",
    "            fn[yt] += 1\n",
    "    f1s = []\n",
    "    for c in range(num_classes):\n",
    "        p = tp[c] / max(1, (tp[c] + fp[c]))\n",
    "        r = tp[c] / max(1, (tp[c] + fn[c]))\n",
    "        if p + r == 0:\n",
    "            f1s.append(0.0)\n",
    "        else:\n",
    "            f1s.append(2*p*r/(p+r))\n",
    "    return float(np.mean(f1s))"
   ]
  },
  {
   "cell_type": "code",
   "execution_count": null,
   "id": "ad602ccd",
   "metadata": {},
   "outputs": [],
   "source": [
    "# ==========================\n",
    "# 3) Callback: ประเมิน cls + cap แล้ว \"ล็อก\" metric (เวอร์ชันทนทาน KeyError)\n",
    "# ==========================\n",
    "class CaptionEvalCallback(TrainerCallback):\n",
    "    def __init__(self, eval_dataset, tokenizer, sample_size=256, max_new_tokens=96, seed=42):\n",
    "        self.eval_dataset = eval_dataset\n",
    "        self.tokenizer = tokenizer\n",
    "        self.sample_size = sample_size\n",
    "        self.max_new_tokens = max_new_tokens\n",
    "        self.rng = random.Random(seed)\n",
    "\n",
    "    # --- ใช้เฉพาะกรณีไม่มี messages ใน row ---\n",
    "    def build_messages(self, image_obj) -> Dict[str, Any]:\n",
    "        \"\"\"\n",
    "        กรณีชุดข้อมูลเป็นรูปแบบเก่า (มี 'image' และ 'text') แต่ยังไม่มี 'messages'\n",
    "        ให้สร้างข้อความ user ตาม prompt เดิม + แนบภาพ\n",
    "        \"\"\"\n",
    "        return {\n",
    "            \"messages\": [\n",
    "                {\n",
    "                    \"role\": \"user\",\n",
    "                    \"content\": [\n",
    "                        {\"type\": \"text\",\n",
    "                         \"text\": (\n",
    "                            \"Describe the chest X-ray using precise clinical terms. \"\n",
    "                            \"Identify one main diagnostic category from: \"\n",
    "                            \"Chest_Changes, Degenerative_Infectious, Higher_Density, \"\n",
    "                            \"Inflammatory_Pneumonia, Lower_Density, Mediastinal_Changes, \"\n",
    "                            \"Normal, or Obstructive.\"\n",
    "                         )},\n",
    "                        {\"type\": \"image\", \"image\": image_obj},\n",
    "                    ],\n",
    "                }\n",
    "            ]\n",
    "        }\n",
    "\n",
    "    def _extract_from_row(self, row: Dict[str, Any]):\n",
    "        \"\"\"\n",
    "        ดึงข้อมูลให้ครอบคลุมทุกกรณี:\n",
    "        - ถ้ามี 'messages': ใช้ messages เดิม (ปลอดภัย, สอดคล้อง chat template)\n",
    "            * รูป: ค้นใน user.content[type=='image']\n",
    "            * ref_caption: ใช้ assistant.content[type=='text'] ถ้าไม่มีคอลัมน์ 'text'\n",
    "        - ถ้าไม่มี 'messages': ใช้ row['image'] + row['text'] แล้วสร้าง messages ใหม่\n",
    "\n",
    "        คืนค่า: messages(dict), ref_caption(str), true_cls(str)\n",
    "        \"\"\"\n",
    "        messages = None\n",
    "        ref_caption = row.get(\"text\", \"\") or \"\"       # เผื่อไม่มี 'text' จะอัปเดตจาก assistant ทีหลัง\n",
    "        true_cls = row.get(\"__class__\", \"\") or \"\"     # label จริงของคลาส\n",
    "\n",
    "        if \"messages\" in row and isinstance(row[\"messages\"], list):\n",
    "            # ใช้ messages เดิมเพื่อเลี่ยง mismatch กับ processor/data_collator\n",
    "            messages = {\"messages\": row[\"messages\"]}\n",
    "\n",
    "            # หา image จาก user turn แรกที่มี type=='image'\n",
    "            image_found = False\n",
    "            for turn in row[\"messages\"]:\n",
    "                if turn.get(\"role\") == \"user\":\n",
    "                    for c in (turn.get(\"content\") or []):\n",
    "                        if isinstance(c, dict) and c.get(\"type\") == \"image\" and c.get(\"image\") is not None:\n",
    "                            image_found = True\n",
    "                            break\n",
    "                if image_found:\n",
    "                    break\n",
    "\n",
    "            # หา ref caption จาก assistant ถ้ายังไม่มี 'text'\n",
    "            if not ref_caption:\n",
    "                for turn in row[\"messages\"]:\n",
    "                    if turn.get(\"role\") == \"assistant\":\n",
    "                        for c in (turn.get(\"content\") or []):\n",
    "                            if isinstance(c, dict) and c.get(\"type\") == \"text\" and c.get(\"text\"):\n",
    "                                ref_caption = c[\"text\"]\n",
    "                                break\n",
    "                        if ref_caption:\n",
    "                            break\n",
    "\n",
    "            # ถ้า messages มีอยู่แต่ไม่มีภาพเลย (rare) → พยายาม fallback จากคีย์ 'image'\n",
    "            if not image_found and row.get(\"image\", None) is not None:\n",
    "                messages = self.build_messages(row[\"image\"])\n",
    "\n",
    "        else:\n",
    "            # โครงสร้างเก่า: ต้องมี 'image' จึงจะ build ได้\n",
    "            img = row.get(\"image\", None)\n",
    "            if img is None:\n",
    "                # ยังไม่มีภาพจริง ๆ → โยน error ที่เข้าใจง่ายแทน KeyError\n",
    "                raise ValueError(\n",
    "                    \"No image found in row. Expected either 'messages' with an image content \"\n",
    "                    \"or an 'image' column.\"\n",
    "                )\n",
    "            messages = self.build_messages(img)\n",
    "\n",
    "        return messages, ref_caption, true_cls\n",
    "\n",
    "    @torch.no_grad()\n",
    "    def on_evaluate(self, args, state, control, model=None, **kwargs):\n",
    "        model.eval()\n",
    "\n",
    "        # ----- สุ่ม subset จาก val_ds เพื่อลดเวลา evaluate -----\n",
    "        n = len(self.eval_dataset)\n",
    "        idxs = list(range(n))\n",
    "        self.rng.shuffle(idxs)\n",
    "        idxs = idxs[:min(self.sample_size, n)]\n",
    "\n",
    "        pred_classes, true_classes = [], []\n",
    "        rouge_ls = []\n",
    "\n",
    "        for i in idxs:\n",
    "            row = self.eval_dataset[i]\n",
    "\n",
    "            # ✅ ดึง messages/ref/label แบบกันพัง ไม่ผูกติดคีย์ 'image'\n",
    "            messages, ref_caption, true_cls = self._extract_from_row(row)\n",
    "\n",
    "            # ----- เตรียมอินพุตตาม template ของรุ่น (ใช้ messages ที่สกัดได้) -----\n",
    "            inputs = self.tokenizer.apply_chat_template(\n",
    "                messages[\"messages\"],\n",
    "                add_generation_prompt=True,\n",
    "                tokenize=True,\n",
    "                return_tensors=\"pt\"\n",
    "            ).to(model.device)\n",
    "\n",
    "            # หมายเหตุ: Unsloth FastVisionModel จะ map ภาพจาก messages ผ่าน data_collator/processor ภายใน\n",
    "            # ในกรณีรุ่นของคุณต้องการ kwargs เพิ่ม (เช่น pixel_values) ให้ปรับ data_collator ให้จ่ายมาพร้อมกัน\n",
    "\n",
    "            # ----- Generate -----\n",
    "            out = model.generate(\n",
    "                input_ids=inputs,\n",
    "                max_new_tokens=self.max_new_tokens,\n",
    "                do_sample=False\n",
    "            )\n",
    "            text = self.tokenizer.decode(out[0], skip_special_tokens=True)\n",
    "\n",
    "            # ----- แยก \"คลาส\" ที่โมเดลทำนาย พร้อมคำนวณ ROUGE-L caption -----\n",
    "            pred_cls_str = extract_pred_class(text) or \"\"   # string ของคลาสที่พยากรณ์\n",
    "            if pred_cls_str in LABEL_SET:\n",
    "                pred_classes.append(LABEL_TO_ID[pred_cls_str])\n",
    "            else:\n",
    "                pred_classes.append(-1)  # ถ้าอ่านไม่ออกให้ mark -1 แล้วกรองภายหลัง\n",
    "\n",
    "            true_classes.append(LABEL_TO_ID.get(true_cls, -1))\n",
    "\n",
    "            # ถ้ายังไม่มี ref_caption จริง ๆ ให้ใส่ \"\" เพื่อให้ rouge_l_f1 คืน 0 แทนพัง\n",
    "            rouge_ls.append(rouge_l_f1(text, ref_caption or \"\"))\n",
    "\n",
    "        # ----- ทำความสะอาดกรณีมี -1 -----\n",
    "        y_true_clean, y_pred_clean = [], []\n",
    "        for yt, yp in zip(true_classes, pred_classes):\n",
    "            if yt >= 0 and yp >= 0:\n",
    "                y_true_clean.append(yt)\n",
    "                y_pred_clean.append(yp)\n",
    "\n",
    "        macro_f1 = macro_f1_from_predictions(y_true_clean, y_pred_clean) if y_true_clean else 0.0\n",
    "        rougeL   = float(np.mean(rouge_ls)) if rouge_ls else 0.0\n",
    "\n",
    "        # ----- บันทึก metric แบบ IN-PLACE ให้มีทั้งคีย์ปกติและคีย์ eval_ -----\n",
    "        metrics = kwargs.get(\"metrics\", None)\n",
    "        if metrics is not None:\n",
    "            # คีย์ปกติ (ดูกราฟ/log ได้สะดวก)\n",
    "            metrics[\"macro_f1\"] = macro_f1\n",
    "            metrics[\"rougeL\"]   = rougeL\n",
    "            # คีย์ที่ Trainer จะหาแน่ ๆ เพราะมีการเติม prefix 'eval_'\n",
    "            metrics[\"eval_macro_f1\"] = macro_f1\n",
    "            metrics[\"eval_rougeL\"]   = rougeL\n",
    "        # ห้าม reassign เป็น kwargs[\"metrics\"] = {...}  ต้องแก้ in-place เท่านั้น\n",
    "\n",
    "        return control\n"
   ]
  },
  {
   "cell_type": "code",
   "execution_count": null,
   "id": "ed752a13",
   "metadata": {},
   "outputs": [],
   "source": [
    "# ==========================\n",
    "# 4) Callback: Gate เมตริก captioning (ขั้นต่ำ) + Early stopping เสริม\n",
    "#    - auto-resolve คีย์ metric ให้รองรับทั้งแบบมี/ไม่มี prefix 'eval_'\n",
    "#    - กัน NaN / missing metric\n",
    "# ==========================\n",
    "class SecondaryMetricGate(TrainerCallback):\n",
    "    def __init__(self, metric_key=\"rougeL\", min_value=0.35, patience=2):\n",
    "        \"\"\"\n",
    "        metric_key: ชื่อเมตริกหลักที่อยาก gate (เช่น \"rougeL\" หรือ \"eval_rougeL\")\n",
    "        min_value : ค่าขั้นต่ำที่ยอมรับ (ยิ่งมากยิ่งดี)\n",
    "        patience  : ต่ำกว่าขั้นต่ำติดต่อกันกี่รอบจึงหยุดเทรน\n",
    "        \"\"\"\n",
    "        self.metric_key = str(metric_key)\n",
    "        self.min_value = float(min_value)\n",
    "        self.patience = int(patience)\n",
    "        self.bad_epochs = 0\n",
    "        self._resolved_key = None  # จะ cache คีย์ที่มีจริง เช่น 'rougeL' หรือ 'eval_rougeL'\n",
    "\n",
    "    def _resolve_key(self, metrics: dict):\n",
    "        \"\"\"\n",
    "        พยายามหา \"คีย์ที่มีจริง\" เพียงครั้งเดียว แล้ว cache ไว้:\n",
    "            - ตรงชื่อที่ผู้ใช้ส่งมา (metric_key)\n",
    "            - เติม/ตัด prefix 'eval_'\n",
    "        \"\"\"\n",
    "        if self._resolved_key is not None:\n",
    "            return  # เคย resolve แล้ว\n",
    "\n",
    "        candidates = [self.metric_key]\n",
    "        if self.metric_key.startswith(\"eval_\"):\n",
    "            candidates.append(self.metric_key[len(\"eval_\"):])           # ตัด eval_\n",
    "        else:\n",
    "            candidates.append(f\"eval_{self.metric_key}\")                 # เติม eval_\n",
    "\n",
    "        for k in candidates:\n",
    "            if k in metrics:\n",
    "                self._resolved_key = k\n",
    "                break\n",
    "        # ถ้ายังไม่เจอ ให้คง None แล้วปล่อยผ่านรอบนี้ (ยังไม่ gate)\n",
    "\n",
    "    def on_evaluate(self, args, state, control, **kwargs):\n",
    "        metrics = kwargs.get(\"metrics\", {}) or {}\n",
    "\n",
    "        # ระบุคีย์จริงจาก metrics ของรอบแรกที่มีข้อมูล\n",
    "        self._resolve_key(metrics)\n",
    "\n",
    "        if not self._resolved_key:\n",
    "            # ยังไม่มีคีย์ที่ต้องการในรอบนี้ → ไม่ gate\n",
    "            return control\n",
    "\n",
    "        val = metrics.get(self._resolved_key, None)\n",
    "        # กัน NaN / None\n",
    "        try:\n",
    "            import math\n",
    "            if val is None or not math.isfinite(float(val)):\n",
    "                return control  # ไม่ gate ถ้าค่าไม่ใช่ตัวเลขพร้อมใช้\n",
    "        except Exception:\n",
    "            return control\n",
    "\n",
    "        if float(val) < self.min_value:\n",
    "            # 1) ไม่ save checkpoint รอบนี้ (กันเลือกเช็คพอยต์ที่ caption แย่มาก)\n",
    "            control.should_save = False\n",
    "            # 2) นับความล้มเหลวเพื่อตัดสินใจ early stop\n",
    "            self.bad_epochs += 1\n",
    "            if self.bad_epochs >= self.patience:\n",
    "                control.should_training_stop = True\n",
    "        else:\n",
    "            self.bad_epochs = 0  # reset ถ้าผ่านเกณฑ์\n",
    "\n",
    "        return control\n"
   ]
  },
  {
   "cell_type": "code",
   "execution_count": 47,
   "id": "800c8434",
   "metadata": {},
   "outputs": [],
   "source": [
    "# ==========================\n",
    "# 5) เร่งคณิตศาสตร์บน GPU (TF32) + เปิด train\n",
    "# ==========================\n",
    "try:\n",
    "    torch.backends.cuda.matmul.allow_tf32 = True\n",
    "    torch.set_float32_matmul_precision(\"high\")\n",
    "except Exception:\n",
    "    pass\n",
    "\n",
    "FastVisionModel.for_training(model)  # ✅ enable training\n",
    "pass"
   ]
  },
  {
   "cell_type": "code",
   "execution_count": 48,
   "id": "10109336",
   "metadata": {},
   "outputs": [],
   "source": [
    "# # ==========================\n",
    "# # 6) สร้าง Trainer + ตั้งค่าให้เลือก \"โมเดลดีที่สุด\" ด้วย macro_f1\n",
    "# #    - eval/save แบบ steps เพื่อให้ callback ทำงานถี่พอ\n",
    "# #    - remove_unused_columns=False สำคัญกับ VLM (รักษา fields image/messages)\n",
    "# # ==========================\n",
    "# trainer = SFTTrainer(\n",
    "#     model = model,\n",
    "#     tokenizer = tokenizer,\n",
    "#     data_collator = UnslothVisionDataCollator(model, tokenizer),\n",
    "#     train_dataset = train_ds,\n",
    "#     eval_dataset = val_ds,\n",
    "#     args = SFTConfig(\n",
    "#         # ===== core =====\n",
    "#         output_dir=\"./outs\",\n",
    "#         per_device_train_batch_size=2,\n",
    "#         gradient_accumulation_steps=16,\n",
    "#         learning_rate=1e-4,\n",
    "#         num_train_epochs=2,\n",
    "#         warmup_ratio=0.05,\n",
    "#         weight_decay=0.01,\n",
    "#         lr_scheduler_type=\"linear\",\n",
    "\n",
    "#         # ===== precision =====\n",
    "#         bf16 = is_bf16_supported(),   # ✅ ใช้ตามฮาร์ดแวร์ (Ampere+)\n",
    "#         tf32 = True,\n",
    "\n",
    "#         # ===== eval/save =====\n",
    "#         eval_strategy=\"steps\",\n",
    "#         eval_steps=300,\n",
    "#         save_strategy=\"steps\",\n",
    "#         save_steps=300,\n",
    "#         load_best_model_at_end=True,\n",
    "\n",
    "#         # ✅ เลือกโมเดลที่ดีที่สุดตาม \"macro_f1\" (งานหลัก: classification)\n",
    "#         metric_for_best_model=\"macro_f1\",\n",
    "#         greater_is_better=True,\n",
    "\n",
    "#         logging_steps=10,\n",
    "#         save_total_limit=3,           # ✅ กันพื้นที่พังจากเช็คพอยต์เยอะ\n",
    "\n",
    "#         # ===== VLM safety =====\n",
    "#         remove_unused_columns=False,  # ✅ อย่าตัดคอลัมน์ messages/image\n",
    "#         dataloader_num_workers=0,     # ✅ กันปัญหา pickle/vision worker\n",
    "#         dataset_num_proc=1,           # ✅ กัน map หลายโปรเซส (สเถียร)\n",
    "#         per_device_eval_batch_size=2, # ✅ ลด VRAM ขณะ eval+generate\n",
    "#     ),\n",
    "#     # เรา \"ไม่\" ใช้ compute_metrics ที่ระดับ SFTTrainer ตรง ๆ\n",
    "#     # เพราะ VLM+generate มักชนกับ _pad_across_processes; จึงย้ายไป callback\n",
    "# )"
   ]
  },
  {
   "cell_type": "code",
   "execution_count": 49,
   "id": "84ac35be",
   "metadata": {},
   "outputs": [],
   "source": [
    "# # ==========================\n",
    "# # 7) ติดตั้ง Callback:\n",
    "# #    - EarlyStopping: อิง metric_for_best_model (macro_f1)\n",
    "# #    - CaptionEvalCallback: เติม macro_f1 + rougeL ลง metrics ทุกครั้งที่ eval\n",
    "# #    - SecondaryMetricGate: กั้น checkpoint/หยุด หาก caption ต่ำกว่าเกณฑ์\n",
    "# # ==========================\n",
    "# trainer.add_callback(EarlyStoppingCallback(\n",
    "#     early_stopping_patience=5,         # ถ้า macro_f1 ไม่ดีขึ้น 5 ครั้งติด → หยุด\n",
    "#     early_stopping_threshold=1e-4\n",
    "# ))\n",
    "# trainer.add_callback(CaptionEvalCallback(\n",
    "#     eval_dataset=val_ds,\n",
    "#     tokenizer=tokenizer,\n",
    "#     sample_size=64,                   # ✅ subset เพื่อความเร็ว (ปรับได้)\n",
    "#     max_new_tokens=96\n",
    "# ))\n",
    "# trainer.add_callback(SecondaryMetricGate(\n",
    "#     metric_key=\"rougeL\",               # ✅ ใช้ ROUGE-L เป็น proxy ของ caption คุณภาพ\n",
    "#     min_value=0.35,                    # ✅ เกณฑ์ขั้นต่ำ (ปรับตามฐาน)\n",
    "#     patience=2\n",
    "# ))"
   ]
  },
  {
   "cell_type": "code",
   "execution_count": 50,
   "id": "6dfdd04d",
   "metadata": {},
   "outputs": [
    {
     "name": "stdout",
     "output_type": "stream",
     "text": [
      "Unsloth: Model does not have a default image size - using 512\n"
     ]
    }
   ],
   "source": [
    "trainer = SFTTrainer(\n",
    "    model = model,\n",
    "    tokenizer = tokenizer,\n",
    "    data_collator = UnslothVisionDataCollator(model, tokenizer),\n",
    "    train_dataset = train_ds,\n",
    "    eval_dataset = val_ds,\n",
    "    args = SFTConfig(\n",
    "        output_dir=\"./outs_fast\",\n",
    "        per_device_train_batch_size=1,\n",
    "        gradient_accumulation_steps=4,\n",
    "        learning_rate=1e-4,\n",
    "        num_train_epochs=1,\n",
    "        max_steps=42,\n",
    "        warmup_ratio=0.0,\n",
    "        weight_decay=0.0,\n",
    "        lr_scheduler_type=\"linear\",\n",
    "        bf16 = is_bf16_supported(),\n",
    "        tf32 = True,\n",
    "\n",
    "        # ---- eval/save ----\n",
    "        eval_strategy=\"steps\",\n",
    "        eval_steps=40,\n",
    "        save_strategy=\"no\",          # ไม่เซฟ เพื่อลด I/O\n",
    "        load_best_model_at_end=False,# ไม่ต้องเลือก best\n",
    "\n",
    "        # ⛔ ลบบรรทัดนี้ทิ้งในโหมดเทสต์:\n",
    "        metric_for_best_model=\"macro_f1\",\n",
    "        greater_is_better=True,\n",
    "\n",
    "        logging_steps=5,\n",
    "        save_total_limit=1,\n",
    "\n",
    "        remove_unused_columns=False,\n",
    "        dataloader_num_workers=0,\n",
    "        dataset_num_proc=1,\n",
    "        per_device_eval_batch_size=1,\n",
    "    ),\n",
    ")"
   ]
  },
  {
   "cell_type": "code",
   "execution_count": 51,
   "id": "ee0e44c7",
   "metadata": {},
   "outputs": [],
   "source": [
    "# โหมดเร็ว: ใช้ subset เล็ก + generate สั้น\n",
    "trainer.add_callback(CaptionEvalCallback(\n",
    "    eval_dataset=val_ds,\n",
    "    tokenizer=tokenizer,\n",
    "    sample_size=32,        # จาก 256 → 32 เร็วขึ้นมาก\n",
    "    max_new_tokens=40      # จาก 96 → 40 พอจับสัญญาณได้\n",
    "))\n",
    "# เกทคุณภาพ caption ให้เบาลงหน่อย (ลดเวลาหยุดก่อนเวลา)\n",
    "trainer.add_callback(SecondaryMetricGate(\n",
    "    metric_key=\"rougeL\",\n",
    "    min_value=0.30,        # ผ่อนเกณฑ์ลงเล็กน้อยในโหมดเทสต์\n",
    "    patience=1             # ถ้าต่ำ 1 รอบติดให้หยุด (ประหยัดเวลา)\n",
    "))"
   ]
  },
  {
   "cell_type": "code",
   "execution_count": 52,
   "id": "4badd9c7",
   "metadata": {},
   "outputs": [
    {
     "name": "stdout",
     "output_type": "stream",
     "text": [
      "GPU = NVIDIA GeForce RTX 4050 Laptop GPU. Max memory = 5.997 GB.\n",
      "3.445 GB of memory reserved.\n"
     ]
    }
   ],
   "source": [
    "# title Show current memory stats\n",
    "gpu_stats = torch.cuda.get_device_properties(0)\n",
    "start_gpu_memory = round(torch.cuda.max_memory_reserved() / 1024 / 1024 / 1024, 3)\n",
    "max_memory = round(gpu_stats.total_memory / 1024 / 1024 / 1024, 3)\n",
    "print(f\"GPU = {gpu_stats.name}. Max memory = {max_memory} GB.\")\n",
    "print(f\"{start_gpu_memory} GB of memory reserved.\")"
   ]
  },
  {
   "cell_type": "code",
   "execution_count": 53,
   "id": "c612f79e",
   "metadata": {},
   "outputs": [
    {
     "name": "stderr",
     "output_type": "stream",
     "text": [
      "==((====))==  Unsloth - 2x faster free finetuning | Num GPUs used = 1\n",
      "   \\\\   /|    Num examples = 5,600 | Num Epochs = 1 | Total steps = 42\n",
      "O^O/ \\_/ \\    Batch size per device = 1 | Gradient accumulation steps = 4\n",
      "\\        /    Data Parallel GPUs = 1 | Total batch size (1 x 4 x 1) = 4\n",
      " \"-____-\"     Trainable parameters = 3,932,160 of 3,758,555,136 (0.10% trained)\n"
     ]
    },
    {
     "data": {
      "text/html": [
       "\n",
       "    <div>\n",
       "      \n",
       "      <progress value='42' max='42' style='width:300px; height:20px; vertical-align: middle;'></progress>\n",
       "      [42/42 05:30, Epoch 0/1]\n",
       "    </div>\n",
       "    <table border=\"1\" class=\"dataframe\">\n",
       "  <thead>\n",
       " <tr style=\"text-align: left;\">\n",
       "      <th>Step</th>\n",
       "      <th>Training Loss</th>\n",
       "      <th>Validation Loss</th>\n",
       "    </tr>\n",
       "  </thead>\n",
       "  <tbody>\n",
       "    <tr>\n",
       "      <td>40</td>\n",
       "      <td>0.952200</td>\n",
       "      <td>3.649269</td>\n",
       "    </tr>\n",
       "  </tbody>\n",
       "</table><p>"
      ],
      "text/plain": [
       "<IPython.core.display.HTML object>"
      ]
     },
     "metadata": {},
     "output_type": "display_data"
    }
   ],
   "source": [
    "from unsloth import unsloth_train\n",
    "\n",
    "trainer_stats = unsloth_train(trainer)"
   ]
  },
  {
   "cell_type": "code",
   "execution_count": 54,
   "id": "9f06a6fc",
   "metadata": {},
   "outputs": [
    {
     "name": "stdout",
     "output_type": "stream",
     "text": [
      "334.044 seconds used for training.\n",
      "5.57 minutes used for training.\n",
      "Peak reserved memory = 11.316 GB.\n",
      "Peak reserved memory for training = 7.871 GB.\n",
      "Peak reserved memory % of max memory = 188.694 %.\n",
      "Peak reserved memory for training % of max memory = 131.249 %.\n"
     ]
    }
   ],
   "source": [
    "# title Show final memory and time stats\n",
    "used_memory = round(torch.cuda.max_memory_reserved() / 1024 / 1024 / 1024, 3)\n",
    "used_memory_for_lora = round(used_memory - start_gpu_memory, 3)\n",
    "used_percentage = round(used_memory         /max_memory*100, 3)\n",
    "lora_percentage = round(used_memory_for_lora/max_memory*100, 3)\n",
    "print(f\"{trainer_stats.metrics['train_runtime']} seconds used for training.\")\n",
    "print(f\"{round(trainer_stats.metrics['train_runtime']/60, 2)} minutes used for training.\")\n",
    "print(f\"Peak reserved memory = {used_memory} GB.\")\n",
    "print(f\"Peak reserved memory for training = {used_memory_for_lora} GB.\")\n",
    "print(f\"Peak reserved memory % of max memory = {used_percentage} %.\")\n",
    "print(f\"Peak reserved memory for training % of max memory = {lora_percentage} %.\")"
   ]
  },
  {
   "cell_type": "code",
   "execution_count": 60,
   "id": "932b58e7",
   "metadata": {},
   "outputs": [
    {
     "name": "stdout",
     "output_type": "stream",
     "text": [
      "Final metrics: {'train_runtime': 334.044, 'train_samples_per_second': 0.503, 'train_steps_per_second': 0.126, 'total_flos': 1458142636277760.0, 'train_loss': 0.9359203236443656, 'epoch': 0.03}\n",
      "Latest eval_loss: 3.6492691040039062 (step=40, epoch=0.02857142857142857)\n"
     ]
    }
   ],
   "source": [
    "# พิมพ์ metric สรุปรวมตามเดิม\n",
    "print(\"Final metrics:\", trainer_stats.metrics)\n",
    "\n",
    "# ดึง eval_loss ล่าสุดเท่าที่ย้อนไปได้จาก log_history\n",
    "def latest_eval_metric(trainer, key=\"eval_loss\"):\n",
    "    # log_history เก็บ dict ของแต่ละรอบ: {'eval_loss': ..., 'step': ..., 'epoch': ...}\n",
    "    for log in reversed(trainer.state.log_history):\n",
    "        if key in log:\n",
    "            return {\n",
    "                \"value\": log[key],\n",
    "                \"step\": log.get(\"step\", log.get(\"global_step\", None)),\n",
    "                \"epoch\": log.get(\"epoch\", None),\n",
    "                \"raw\": log,  # เผื่ออยากดูทั้งหมด\n",
    "            }\n",
    "    return None\n",
    "\n",
    "latest = latest_eval_metric(trainer, key=\"eval_loss\")\n",
    "\n",
    "if latest is not None:\n",
    "    print(f\"Latest eval_loss: {latest['value']} (step={latest['step']}, epoch={latest['epoch']})\")\n",
    "else:\n",
    "    # fallback: ถ้าหาไม่เจอจริง ๆ ลองดูที่ผลรวมสุดท้าย\n",
    "    print(\"Latest eval_loss: N/A\")\n",
    "    print(\"Final eval_loss (if present):\", trainer_stats.metrics.get(\"eval_loss\", None))\n"
   ]
  },
  {
   "cell_type": "code",
   "execution_count": 61,
   "id": "a9204ff4",
   "metadata": {},
   "outputs": [
    {
     "data": {
      "text/html": [
       "\n",
       "    <div>\n",
       "      \n",
       "      <progress value='24' max='24' style='width:300px; height:20px; vertical-align: middle;'></progress>\n",
       "      [24/24 00:10]\n",
       "    </div>\n",
       "    "
      ],
      "text/plain": [
       "<IPython.core.display.HTML object>"
      ]
     },
     "metadata": {},
     "output_type": "display_data"
    },
    {
     "name": "stdout",
     "output_type": "stream",
     "text": [
      "🔹 Eval metrics (latest): {'eval_loss': 3.652217149734497, 'eval_runtime': 13.7634, 'eval_samples_per_second': 1.744, 'eval_steps_per_second': 1.744, 'epoch': 0.03, 'macro_f1': 0.0, 'rougeL': 0.6519686147517801, 'eval_macro_f1': 0.0, 'eval_rougeL': 0.6519686147517801}\n",
      "🔹 Eval loss: 3.652217149734497\n",
      "🔹 Macro F1: 0.0\n",
      "🔹 ROUGE-L: 0.6519686147517801\n"
     ]
    }
   ],
   "source": [
    "eval_metrics = trainer.evaluate()\n",
    "\n",
    "print(\"🔹 Eval metrics (latest):\", eval_metrics)\n",
    "print(\"🔹 Eval loss:\", eval_metrics.get(\"eval_loss\"))\n",
    "print(\"🔹 Macro F1:\", eval_metrics.get(\"macro_f1\"))\n",
    "print(\"🔹 ROUGE-L:\", eval_metrics.get(\"rougeL\"))"
   ]
  }
 ],
 "metadata": {
  "kernelspec": {
   "display_name": "lung_lora",
   "language": "python",
   "name": "python3"
  },
  "language_info": {
   "codemirror_mode": {
    "name": "ipython",
    "version": 3
   },
   "file_extension": ".py",
   "mimetype": "text/x-python",
   "name": "python",
   "nbconvert_exporter": "python",
   "pygments_lexer": "ipython3",
   "version": "3.10.18"
  }
 },
 "nbformat": 4,
 "nbformat_minor": 5
}
