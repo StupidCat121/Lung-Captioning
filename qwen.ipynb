{
 "cells": [
  {
   "cell_type": "code",
   "execution_count": 1,
   "id": "5fd86991",
   "metadata": {},
   "outputs": [
    {
     "name": "stderr",
     "output_type": "stream",
     "text": [
      "c:\\Users\\namth\\anaconda3\\envs\\lung_caption_env\\lib\\site-packages\\tqdm\\auto.py:21: TqdmWarning: IProgress not found. Please update jupyter and ipywidgets. See https://ipywidgets.readthedocs.io/en/stable/user_install.html\n",
      "  from .autonotebook import tqdm as notebook_tqdm\n"
     ]
    }
   ],
   "source": [
    "import torch, requests, math\n",
    "from io import BytesIO\n",
    "from PIL import Image\n",
    "import numpy as np\n",
    "import matplotlib.pyplot as plt\n",
    "\n",
    "from transformers import AutoProcessor, Qwen2_5_VLForConditionalGeneration, BitsAndBytesConfig"
   ]
  },
  {
   "cell_type": "code",
   "execution_count": 2,
   "id": "87148a85",
   "metadata": {},
   "outputs": [
    {
     "name": "stdout",
     "output_type": "stream",
     "text": [
      "device: cuda\n"
     ]
    }
   ],
   "source": [
    "# ----------------------------\n",
    "# 0) เตรียมอุปกรณ์\n",
    "# ----------------------------\n",
    "device = \"cuda\" if torch.cuda.is_available() else \"cpu\"\n",
    "print(\"device:\", device)"
   ]
  },
  {
   "cell_type": "code",
   "execution_count": null,
   "id": "4d9fdba5",
   "metadata": {},
   "outputs": [],
   "source": [
    "# ----------------------------\n",
    "# 1) โหลดโมเดล + โปรเซสเซอร์\n",
    "# ----------------------------\n",
    "processor = AutoProcessor.from_pretrained(\n",
    "    \"Qwen/Qwen2.5-VL-3B-Instruct\",\n",
    "    trust_remote_code=True,\n",
    ")\n",
    "\n",
    "bnb_cfg = BitsAndBytesConfig(load_in_4bit=True, bnb_4bit_compute_dtype=torch.float16)\n",
    "\n",
    "model = Qwen2_5_VLForConditionalGeneration.from_pretrained(\n",
    "    \"Qwen/Qwen2.5-VL-3B-Instruct\",\n",
    "    dtype=\"auto\",         # ถ้าใช้ torch>=2.4 แนะนำ dtype=torch.float16/bfloat16\n",
    "    device_map=\"auto\",\n",
    "    trust_remote_code=True,\n",
    "    offload_folder=\"offload\",   # บางพารามิเตอร์ย้ายไป disk\n",
    "    quantization_config=bnb_cfg,\n",
    ").eval()"
   ]
  },
  {
   "cell_type": "code",
   "execution_count": 4,
   "id": "93112dd4",
   "metadata": {},
   "outputs": [],
   "source": [
    "# ----------------------------\n",
    "# 2) โหลดภาพทดสอบ + คำสั่ง\n",
    "# ----------------------------\n",
    "url = \"https://qianwen-res.oss-cn-beijing.aliyuncs.com/Qwen-VL/assets/demo.jpeg\"\n",
    "image = Image.open(BytesIO(requests.get(url, timeout=15).content)).convert(\"RGB\").resize((224, 224))\n",
    "\n",
    "messages = [{\n",
    "    \"role\": \"user\",\n",
    "    \"content\": [\n",
    "        {\"type\": \"image\", \"image\": image},\n",
    "        {\"type\": \"text\", \"text\": \"Describe this image.\"}\n",
    "    ],\n",
    "}]"
   ]
  },
  {
   "cell_type": "code",
   "execution_count": 5,
   "id": "0b64408d",
   "metadata": {},
   "outputs": [
    {
     "name": "stderr",
     "output_type": "stream",
     "text": [
      "The following generation flags are not valid and may be ignored: ['temperature']. Set `TRANSFORMERS_VERBOSITY=info` for more details.\n"
     ]
    },
    {
     "name": "stdout",
     "output_type": "stream",
     "text": [
      "Model output: The image depicts a serene beach scene during what appears to be either sunrise or sunset\n"
     ]
    }
   ],
   "source": [
    "# ----------------------------\n",
    "# 3) Inference ให้เห็นผลข้อความจริง\n",
    "# ----------------------------\n",
    "chat_text = processor.apply_chat_template(messages, tokenize=False, add_generation_prompt=True)\n",
    "\n",
    "# สร้าง batch inputs (ทั้งข้อความ+ภาพ) สำหรับ generate\n",
    "inputs = processor(\n",
    "    text=[chat_text],\n",
    "    images=[image],\n",
    "    videos=None,\n",
    "    padding=True,\n",
    "    return_tensors=\"pt\",\n",
    ")\n",
    "inputs = {k: v.to(model.device) for k, v in inputs.items()}\n",
    "\n",
    "with torch.inference_mode():\n",
    "    gen_ids = model.generate(\n",
    "        **inputs,\n",
    "        max_new_tokens=16,\n",
    "        do_sample=False,        # deterministic\n",
    "        use_cache=True,\n",
    "    )\n",
    "\n",
    "# ตัด prompt ออก เหลือเฉพาะที่โมเดล \"พูดต่อ\"\n",
    "trimmed = [out[len(inp):] for inp, out in zip(inputs[\"input_ids\"], gen_ids)]\n",
    "texts = processor.batch_decode(trimmed, skip_special_tokens=True)\n",
    "print(\"Model output:\", texts[0].strip())"
   ]
  },
  {
   "cell_type": "code",
   "execution_count": null,
   "id": "51044de9",
   "metadata": {},
   "outputs": [
    {
     "name": "stdout",
     "output_type": "stream",
     "text": [
      "dict_keys(['vision_config', 'text_config', 'image_token_id', 'video_token_id', 'return_dict', 'output_hidden_states', 'torchscript', 'dtype', 'pruned_heads', 'tie_word_embeddings', 'chunk_size_feed_forward', 'is_encoder_decoder', 'is_decoder', 'cross_attention_hidden_size', 'add_cross_attention', 'tie_encoder_decoder', 'architectures', 'finetuning_task', 'id2label', 'label2id', 'task_specific_params', 'problem_type', 'tokenizer_class', 'prefix', 'bos_token_id', 'pad_token_id', 'eos_token_id', 'sep_token_id', 'decoder_start_token_id', 'max_length', 'min_length', 'do_sample', 'early_stopping', 'num_beams', 'temperature', 'top_k', 'top_p', 'typical_p', 'repetition_penalty', 'length_penalty', 'no_repeat_ngram_size', 'encoder_no_repeat_ngram_size', 'bad_words_ids', 'num_return_sequences', 'output_scores', 'return_dict_in_generate', 'forced_bos_token_id', 'forced_eos_token_id', 'remove_invalid_values', 'exponential_decay_length_penalty', 'suppress_tokens', 'begin_suppress_tokens', 'num_beam_groups', 'diversity_penalty', '_name_or_path', 'transformers_version', 'attention_dropout', 'vision_start_token_id', 'vision_end_token_id', 'vision_token_id', 'hidden_act', 'hidden_size', 'initializer_range', 'intermediate_size', 'max_position_embeddings', 'max_window_layers', 'model_type', 'num_attention_heads', 'num_hidden_layers', 'num_key_value_heads', 'rms_norm_eps', 'rope_theta', 'sliding_window', 'use_cache', 'use_sliding_window', 'rope_scaling', 'vocab_size', 'quantization_config', 'output_attentions'])\n",
      "False\n"
     ]
    }
   ],
   "source": [
    "# ----------------------------\n",
    "# 4) ดึง Visual Attention จาก Vision Tower (ViT)\n",
    "#    - ใช้พิกเซลจาก image_processor โดยตรง\n",
    "#    - ขอ output_attentions=True เพื่อดึงแผนที่ attention ทุกเลเยอร์\n",
    "# ----------------------------\n",
    "\n",
    "print(model.config.to_dict().keys())\n",
    "print(model.config.output_attentions)   # ค่า default (True/False)"
   ]
  },
  {
   "cell_type": "code",
   "execution_count": null,
   "id": "e8b5e8fd",
   "metadata": {},
   "outputs": [
    {
     "name": "stdout",
     "output_type": "stream",
     "text": [
      "<class 'tuple'>\n"
     ]
    }
   ],
   "source": [
    "with torch.inference_mode():\n",
    "    out = model(\n",
    "        **inputs,\n",
    "        output_attentions=True,\n",
    "        return_dict=True,\n",
    "        use_cache=False\n",
    "    )\n",
    "\n",
    "print(type(out.attentions))"
   ]
  },
  {
   "cell_type": "code",
   "execution_count": null,
   "id": "e36fd177",
   "metadata": {},
   "outputs": [
    {
     "name": "stdout",
     "output_type": "stream",
     "text": [
      "36\n",
      "(None, None, None, None, None, None, None, None, None, None, None, None, None, None, None, None, None, None, None, None, None, None, None, None, None, None, None, None, None, None, None, None, None, None, None, None)\n"
     ]
    }
   ],
   "source": [
    "print(len(out.attentions))      # จำนวนเลเยอร์\n",
    "print(out.attentions)           # เลเยอร์สุดท้าย"
   ]
  },
  {
   "cell_type": "markdown",
   "id": "aec2e357",
   "metadata": {},
   "source": [
    "\n",
    "🔎 ปัญหาของรุ่น Instruct\n",
    "\n",
    "* **Qwen2.5-VL-3B-Instruct** เป็นรุ่นที่ fine-tune เพื่อสนทนา (chat) และตอบคำถาม\n",
    "* ทีมผู้พัฒนาปิด `output_attentions` → เวลาขอ attention จะได้ `None`\n",
    "* hook ก็ยังไม่เจอค่า เพราะ attention weights ถูกทิ้งไปใน forward\n",
    "\n",
    "✅ วิธีแก้\n",
    "* ต้องเปลี่ยนไปใช้ base แทน instruct \"Qwen/Qwen2.5-VL-3B\"\n",
    "* แต่ผู้พัฒนาดันลบโมเดล base ไปจาก huggingface แล้ว → พอไปตามดูใน github ถึงจะใช้ชื่อ Qwen2.5-VL แต่เนื้อในกลายเป็น Instruct ไปแล้ว T_T"
   ]
  },
  {
   "cell_type": "code",
   "execution_count": null,
   "id": "4e869ea1",
   "metadata": {},
   "outputs": [],
   "source": [
    "# # ----------------------------\n",
    "# # 5) รีเชปเป็นกริดแพตช์ แล้วอัพสเกลทับภาพ\n",
    "# #    - คำนวณขนาดกริดจาก image_processor\n",
    "# #    - สำหรับ ViT base (patch=14x14 ที่ 224), แต่เราอ่านจากพิกเซลจริงปลอดภัยกว่า\n",
    "# # ----------------------------\n",
    "# # หา H,W หลัง preprocess แล้วคำนวณจำนวนแพตช์โดยดูจาก config ของ vision_model\n",
    "# # ถ้า vision_model.config.patch_size มีอยู่ ให้ใช้\n",
    "# if hasattr(vision_model.config, \"image_size\"):\n",
    "#     img_size_proc = vision_model.config.image_size  # ปกติ 224 หรือ 448 (ขึ้นกับ processor)\n",
    "# else:\n",
    "#     # สำรอง: ใช้ขนาดของ pixel_values\n",
    "#     _, _, Hpx, Wpx = vision_inputs[\"pixel_values\"].shape\n",
    "#     img_size_proc = max(Hpx, Wpx)\n",
    "\n",
    "# patch = getattr(vision_model.config, \"patch_size\", 14)  # สำรองค่า 14 ถ้าไม่มีระบุ\n",
    "# Hp = math.ceil(img_size_proc / patch)\n",
    "# Wp = math.ceil(img_size_proc / patch)\n",
    "\n",
    "# # ตรวจว่าจำนวนโทเค็นตรงกับกริดไหม ไม่ตรงก็ปรับแบบยืดหยุ่น\n",
    "# if attn_mean.numel() != Hp * Wp:\n",
    "#     # บางครั้งมี token ไม่ครบเต็มกริดเพราะ padding; ลองเดาว่าจำนวนจริงคือ (N-1)\n",
    "#     # แล้วใส่ค่า sqrt ลงตัวเพื่อหากริดสี่เหลี่ยมที่ใกล้เคียงที่สุด\n",
    "#     Np = attn_mean.numel()\n",
    "#     s = int(round(math.sqrt(Np)))\n",
    "#     Hp = s\n",
    "#     Wp = Np // s\n",
    "\n",
    "# fmap = attn_mean.reshape(Hp, Wp).numpy()\n",
    "# fmap = (fmap - fmap.min()) / (fmap.max() - fmap.min() + 1e-6)\n",
    "\n",
    "# # อัพสเกล heatmap ให้เท่าขนาดภาพต้นฉบับ\n",
    "# img_w, img_h = image.size\n",
    "# fmap_img = np.array(Image.fromarray((fmap * 255).astype(np.uint8)).resize((img_w, img_h), Image.BILINEAR)) / 255.0"
   ]
  },
  {
   "cell_type": "code",
   "execution_count": null,
   "id": "c1f47e7d",
   "metadata": {},
   "outputs": [],
   "source": [
    "# # ----------------------------\n",
    "# # 6) วาด heatmap ซ้อนทับ + บันทึกลงเครื่อง\n",
    "# # ----------------------------\n",
    "# plt.figure(figsize=(8, 6))\n",
    "# plt.imshow(image)\n",
    "# plt.imshow(fmap_img, alpha=0.5, cmap=\"jet\")  # ซ้อนทับ\n",
    "# plt.axis(\"off\")\n",
    "# plt.tight_layout()\n",
    "# out_path = \"attention_overlay.png\"\n",
    "# plt.savefig(out_path, dpi=150)\n",
    "# plt.close()\n",
    "# print(f\"Saved visual attention overlay to: {out_path}\")"
   ]
  }
 ],
 "metadata": {
  "kernelspec": {
   "display_name": "lung_caption_env",
   "language": "python",
   "name": "python3"
  },
  "language_info": {
   "codemirror_mode": {
    "name": "ipython",
    "version": 3
   },
   "file_extension": ".py",
   "mimetype": "text/x-python",
   "name": "python",
   "nbconvert_exporter": "python",
   "pygments_lexer": "ipython3",
   "version": "3.10.18"
  }
 },
 "nbformat": 4,
 "nbformat_minor": 5
}
