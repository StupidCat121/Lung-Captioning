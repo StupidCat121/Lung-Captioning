{
 "cells": [
  {
   "cell_type": "markdown",
   "id": "298b8da5",
   "metadata": {},
   "source": [
    "### Setup Model"
   ]
  }
 ],
 "metadata": {
  "language_info": {
   "name": "python"
  }
 },
 "nbformat": 4,
 "nbformat_minor": 5
}
