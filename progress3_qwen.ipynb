{
 "cells": [
  {
   "cell_type": "markdown",
   "id": "314abfd3",
   "metadata": {},
   "source": [
    "### 1. การติดตั้งและ Import Library\n",
    "\n",
    "- ส่วนนี้คือการติดตั้ง library ที่จำเป็น เช่น unsloth, transformers, trl\n",
    "- transformers คือ library หลักของ HuggingFace ที่มีโมเดล NLP และ Vision ที่ pretrained มาแล้ว\n",
    "- trl เอาไว้ train/fine-tune โมเดลโดยใช้เทคนิค reinforcement learning หรือ supervised fine-tuning"
   ]
  },
  {
   "cell_type": "code",
   "execution_count": null,
   "id": "e41bd97d",
   "metadata": {},
   "outputs": [],
   "source": [
    "# # 1) สร้างและเข้า env\n",
    "# python -m venv .venv\n",
    "# # Windows: .\\.venv\\Scripts\\Activate.ps1\n",
    "# # Linux/macOS: source .venv/bin/activate\n",
    "# python -m pip install -U pip\n",
    "\n",
    "# # 2) ล้างของเก่า\n",
    "# pip uninstall -y torch torchvision torchaudio xformers\n",
    "\n",
    "# # 3) ติดตั้ง PyTorch + CUDA runtime (เลือก 1 ทาง)\n",
    "# pip install --index-url https://download.pytorch.org/whl/cu121 torch torchvision torchaudio\n",
    "# # หรือใช้คำสั่งที่หน้า Get Started ให้มาสำหรับเวอร์ชัน CUDA ล่าสุดของคุณ\n",
    "\n",
    "# # 4) xformers (เลือกจากล้อที่เข้ากัน)\n",
    "# pip install xformers -f https://download.pytorch.org/whl/xformers/\n",
    "\n",
    "# # 5) Unsloth\n",
    "# pip install unsloth"
   ]
  },
  {
   "cell_type": "markdown",
   "id": "6954f373",
   "metadata": {},
   "source": [
    "ตรวจสอบว่า PyTorch เห็น GPU:"
   ]
  },
  {
   "cell_type": "code",
   "execution_count": 2,
   "id": "6c8fe0e7",
   "metadata": {},
   "outputs": [
    {
     "name": "stdout",
     "output_type": "stream",
     "text": [
      "Python: 3.10.18\n",
      "Torch: 2.8.0+cu129\n",
      "Built with CUDA: 12.9\n",
      "CUDA available: True\n",
      "GPU: NVIDIA GeForce RTX 4050 Laptop GPU\n"
     ]
    }
   ],
   "source": [
    "import torch, platform\n",
    "\n",
    "print(\"Python:\", platform.python_version())\n",
    "print(\"Torch:\", torch.__version__)\n",
    "print(\"Built with CUDA:\", torch.version.cuda)\n",
    "print(\"CUDA available:\", torch.cuda.is_available())\n",
    "if torch.cuda.is_available():\n",
    "    print(\"GPU:\", torch.cuda.get_device_name(0))"
   ]
  },
  {
   "cell_type": "markdown",
   "id": "f8f2fc6a",
   "metadata": {},
   "source": [
    "### 2. โหลดโมเดล Vision-Language\n",
    "\n",
    "- โหลดโมเดล Qwen2.5-VL (Vision-Language model) ที่สามารถเข้าใจ รูปภาพ + ข้อความ\n",
    "- tokenizer ทำหน้าที่แปลงข้อความเป็นตัวเลข (tokens)\n",
    "- load_in_4bit=True → ใช้ quantization 4-bit เพื่อลดขนาดโมเดลและประหยัด GPU memory"
   ]
  },
  {
   "cell_type": "code",
   "execution_count": 1,
   "id": "48ca3df9",
   "metadata": {},
   "outputs": [
    {
     "name": "stderr",
     "output_type": "stream",
     "text": [
      "c:\\Users\\namth\\anaconda3\\envs\\lung_lora\\lib\\site-packages\\tqdm\\auto.py:21: TqdmWarning: IProgress not found. Please update jupyter and ipywidgets. See https://ipywidgets.readthedocs.io/en/stable/user_install.html\n",
      "  from .autonotebook import tqdm as notebook_tqdm\n"
     ]
    },
    {
     "name": "stdout",
     "output_type": "stream",
     "text": [
      "🦥 Unsloth: Will patch your computer to enable 2x faster free finetuning.\n"
     ]
    },
    {
     "name": "stderr",
     "output_type": "stream",
     "text": [
      "W1005 17:06:45.353000 13448 site-packages\\torch\\distributed\\elastic\\multiprocessing\\redirects.py:29] NOTE: Redirects are currently not supported in Windows or MacOs.\n"
     ]
    },
    {
     "name": "stdout",
     "output_type": "stream",
     "text": [
      "🦥 Unsloth Zoo will now patch everything to make training faster!\n"
     ]
    },
    {
     "name": "stderr",
     "output_type": "stream",
     "text": [
      "c:\\Users\\namth\\anaconda3\\envs\\lung_lora\\lib\\site-packages\\unsloth_zoo\\gradient_checkpointing.py:341: UserWarning: expandable_segments not supported on this platform (Triggered internally at C:\\actions-runner\\_work\\pytorch\\pytorch\\pytorch\\c10/cuda/CUDAAllocatorConfig.h:35.)\n",
      "  GPU_BUFFERS = tuple([torch.empty(2*256*2048, dtype = dtype, device = f\"{DEVICE_TYPE}:{i}\") for i in range(n_gpus)])\n"
     ]
    },
    {
     "name": "stdout",
     "output_type": "stream",
     "text": [
      "==((====))==  Unsloth 2025.9.11: Fast Qwen2_5_Vl patching. Transformers: 4.56.2.\n",
      "   \\\\   /|    NVIDIA GeForce RTX 4050 Laptop GPU. Num GPUs = 1. Max memory: 5.997 GB. Platform: Windows.\n",
      "O^O/ \\_/ \\    Torch: 2.8.0+cu129. CUDA: 8.9. CUDA Toolkit: 12.9. Triton: 3.4.0\n",
      "\\        /    Bfloat16 = TRUE. FA [Xformers = 0.0.32.post2. FA2 = False]\n",
      " \"-____-\"     Free license: http://github.com/unslothai/unsloth\n",
      "Unsloth: Fast downloading is enabled - ignore downloading bars which are red colored!\n"
     ]
    },
    {
     "name": "stderr",
     "output_type": "stream",
     "text": [
      "The image processor of type `Qwen2VLImageProcessor` is now loaded as a fast processor by default, even if the model checkpoint was saved with a slow processor. This is a breaking change and may produce slightly different outputs. To continue using the slow processor, instantiate this class with `use_fast=False`. Note that this behavior will be extended to all models in a future release.\n"
     ]
    }
   ],
   "source": [
    "from unsloth import FastVisionModel\n",
    "import torch\n",
    "\n",
    "model, tokenizer = FastVisionModel.from_pretrained(\n",
    "    \"unsloth/Qwen2.5-VL-3B-Instruct-bnb-4bit\",\n",
    "    load_in_4bit = True,\n",
    "    use_gradient_checkpointing = \"unsloth\",\n",
    ")"
   ]
  },
  {
   "cell_type": "markdown",
   "id": "74992d2e",
   "metadata": {},
   "source": [
    "### 3. เพิ่ม LoRA (Low-Rank Adaptation)\n",
    "\n",
    "- ใช้ LoRA (Low-Rank Adaptation) เพื่อ fine-tune โมเดลเฉพาะบางพารามิเตอร์ แทนที่จะ train ใหม่ทั้งหมด\n",
    "- เราสามารถเลือกว่าจะฝึกเฉพาะ vision part หรือ language part ของโมเดลได้"
   ]
  },
  {
   "cell_type": "code",
   "execution_count": 2,
   "id": "9ccccafe",
   "metadata": {},
   "outputs": [],
   "source": [
    "model = FastVisionModel.get_peft_model(\n",
    "    model,\n",
    "    finetune_vision_layers     = True, # False if not finetuning vision layers\n",
    "    finetune_language_layers   = True, # False if not finetuning language layers\n",
    "    finetune_attention_modules = True, # False if not finetuning attention layers\n",
    "    finetune_mlp_modules       = True, # False if not finetuning MLP layers\n",
    "\n",
    "    r = 16,           # The larger, the higher the accuracy, but might overfit\n",
    "    lora_alpha = 16,  # Recommended alpha == r at least\n",
    "    lora_dropout = 0,\n",
    "    bias = \"none\",\n",
    "    random_state = 3407,\n",
    "    use_rslora = False,  # We support rank stabilized LoRA\n",
    "    loftq_config = None, # And LoftQ\n",
    "    # target_modules = \"all-linear\", # Optional now! Can specify a list if needed\n",
    ")"
   ]
  },
  {
   "cell_type": "markdown",
   "id": "8401401c",
   "metadata": {},
   "source": [
    "### 4. โหลด Dataset"
   ]
  },
  {
   "cell_type": "markdown",
   "id": "d7a646ce",
   "metadata": {},
   "source": [
    "#### Test: (ภาพสมการ LaTeX)\n",
    "\n",
    "โหลด dataset ของภาพที่มีสมการคณิตศาสตร์ (handwritten formula) + คำตอบเป็น LaTeX text"
   ]
  },
  {
   "cell_type": "code",
   "execution_count": 4,
   "id": "ca22b96a",
   "metadata": {},
   "outputs": [
    {
     "name": "stderr",
     "output_type": "stream",
     "text": [
      "Generating train split: 100%|██████████| 68686/68686 [00:00<00:00, 132840.67 examples/s]\n",
      "Generating test split: 100%|██████████| 7632/7632 [00:00<00:00, 122788.37 examples/s]\n"
     ]
    }
   ],
   "source": [
    "from datasets import load_dataset\n",
    "dataset = load_dataset(\"unsloth/LaTeX_OCR\", split = \"train\")"
   ]
  },
  {
   "cell_type": "code",
   "execution_count": 5,
   "id": "c6a422fc",
   "metadata": {},
   "outputs": [
    {
     "data": {
      "text/plain": [
       "Dataset({\n",
       "    features: ['image', 'text'],\n",
       "    num_rows: 68686\n",
       "})"
      ]
     },
     "execution_count": 5,
     "metadata": {},
     "output_type": "execute_result"
    }
   ],
   "source": [
    "dataset"
   ]
  },
  {
   "cell_type": "code",
   "execution_count": 6,
   "id": "2811c787",
   "metadata": {},
   "outputs": [
    {
     "data": {
      "image/jpeg": "[encoded data removed]",
      "image/png": "[encoded data removed]",
      "text/plain": [
       "<PIL.PngImagePlugin.PngImageFile image mode=RGB size=320x50>"
      ]
     },
     "execution_count": 6,
     "metadata": {},
     "output_type": "execute_result"
    }
   ],
   "source": [
    "dataset[2][\"image\"]"
   ]
  },
  {
   "cell_type": "markdown",
   "id": "51c74ee8",
   "metadata": {},
   "source": [
    "ตรวจชนิดตัวแปรตรง ๆ"
   ]
  },
  {
   "cell_type": "code",
   "execution_count": 11,
   "id": "85025bca",
   "metadata": {},
   "outputs": [
    {
     "name": "stdout",
     "output_type": "stream",
     "text": [
      "<class 'PIL.PngImagePlugin.PngImageFile'>\n",
      "PngImageFile\n"
     ]
    }
   ],
   "source": [
    "img = dataset[2][\"image\"]\n",
    "print(type(img))                 # ดูชนิดอ็อบเจ็กต์\n",
    "print(img.__class__.__name__)    # ดูชื่อคลาสแบบสั้น"
   ]
  },
  {
   "cell_type": "markdown",
   "id": "17f8f3f2",
   "metadata": {},
   "source": [
    "เช็คว่าเป็น PIL จริงหรือไม่"
   ]
  },
  {
   "cell_type": "code",
   "execution_count": 12,
   "id": "246cdd82",
   "metadata": {},
   "outputs": [
    {
     "name": "stdout",
     "output_type": "stream",
     "text": [
      "True\n"
     ]
    }
   ],
   "source": [
    "from PIL import Image\n",
    "print(isinstance(img, Image.Image))  # True ถ้าเป็นภาพจาก PIL"
   ]
  },
  {
   "cell_type": "markdown",
   "id": "81e602e4",
   "metadata": {},
   "source": [
    "ดู schema ของ dataset (ยืนยัน feature)"
   ]
  },
  {
   "cell_type": "code",
   "execution_count": 13,
   "id": "952aa6cd",
   "metadata": {},
   "outputs": [
    {
     "name": "stdout",
     "output_type": "stream",
     "text": [
      "{'image': Image(mode=None, decode=True), 'text': Value('string')}\n",
      "<class 'datasets.features.image.Image'>\n"
     ]
    }
   ],
   "source": [
    "print(dataset.features)                   # โครงสร้างฟีเจอร์\n",
    "print(type(dataset.features[\"image\"]))    # มักเป็น datasets.features.image.Image"
   ]
  },
  {
   "cell_type": "markdown",
   "id": "a793edb5",
   "metadata": {},
   "source": [
    "ดูคุณสมบัติภาพ (size/format/mode)"
   ]
  },
  {
   "cell_type": "code",
   "execution_count": 14,
   "id": "006de85b",
   "metadata": {},
   "outputs": [
    {
     "name": "stdout",
     "output_type": "stream",
     "text": [
      "size: (320, 50)\n",
      "mode: RGB\n",
      "format: PNG\n"
     ]
    }
   ],
   "source": [
    "print(\"size:\", img.size)     # (width, height)\n",
    "print(\"mode:\", img.mode)     # เช่น 'RGB', 'L'\n",
    "print(\"format:\", img.format) # เช่น 'PNG', 'JPEG'"
   ]
  },
  {
   "cell_type": "code",
   "execution_count": 8,
   "id": "86a4186f",
   "metadata": {},
   "outputs": [
    {
     "data": {
      "text/plain": [
       "'H ^ { \\\\prime } = \\\\beta N \\\\int d \\\\lambda \\\\biggl \\\\{ \\\\frac { 1 } { 2 \\\\beta ^ { 2 } N ^ { 2 } } \\\\partial _ { \\\\lambda } \\\\zeta ^ { \\\\dagger } \\\\partial _ { \\\\lambda } \\\\zeta + V ( \\\\lambda ) \\\\zeta ^ { \\\\dagger } \\\\zeta \\\\biggr \\\\} \\\\ .'"
      ]
     },
     "execution_count": 8,
     "metadata": {},
     "output_type": "execute_result"
    }
   ],
   "source": [
    "dataset[2][\"text\"]"
   ]
  },
  {
   "cell_type": "code",
   "execution_count": 7,
   "id": "36bd4625",
   "metadata": {},
   "outputs": [
    {
     "data": {
      "text/latex": [
       "$\\displaystyle H ^ { \\prime } = \\beta N \\int d \\lambda \\biggl \\{ \\frac { 1 } { 2 \\beta ^ { 2 } N ^ { 2 } } \\partial _ { \\lambda } \\zeta ^ { \\dagger } \\partial _ { \\lambda } \\zeta + V ( \\lambda ) \\zeta ^ { \\dagger } \\zeta \\biggr \\} \\ .$"
      ],
      "text/plain": [
       "<IPython.core.display.Math object>"
      ]
     },
     "metadata": {},
     "output_type": "display_data"
    }
   ],
   "source": [
    "from IPython.display import display, Math, Latex\n",
    "latex = dataset[2][\"text\"]\n",
    "display(Math(latex))"
   ]
  },
  {
   "cell_type": "markdown",
   "id": "10f5162c",
   "metadata": {},
   "source": [
    "#### Main : ประกอบร่าง dataset ของเราเอง"
   ]
  },
  {
   "cell_type": "code",
   "execution_count": 18,
   "id": "626ea743",
   "metadata": {},
   "outputs": [
    {
     "name": "stdout",
     "output_type": "stream",
     "text": [
      "Downloading from https://www.kaggle.com/api/v1/datasets/download/fernando2rad/x-ray-lung-diseases-images-9-classes?dataset_version_number=1...\n"
     ]
    },
    {
     "name": "stderr",
     "output_type": "stream",
     "text": [
      "100%|██████████| 182M/182M [00:23<00:00, 7.99MB/s] "
     ]
    },
    {
     "name": "stdout",
     "output_type": "stream",
     "text": [
      "Extracting files...\n"
     ]
    },
    {
     "name": "stderr",
     "output_type": "stream",
     "text": [
      "\n"
     ]
    },
    {
     "name": "stdout",
     "output_type": "stream",
     "text": [
      "Path to dataset files: C:\\Users\\namth\\.cache\\kagglehub\\datasets\\fernando2rad\\x-ray-lung-diseases-images-9-classes\\versions\\1\n"
     ]
    }
   ],
   "source": [
    "import kagglehub\n",
    "\n",
    "path = kagglehub.dataset_download(\"fernando2rad/x-ray-lung-diseases-images-9-classes\")\n",
    "\n",
    "print(\"Path to dataset files:\", path)"
   ]
  },
  {
   "cell_type": "markdown",
   "id": "5324eeb2",
   "metadata": {},
   "source": [
    "จับคู่จาก CSV + โฟลเดอร์ภาพ → ได้ image & text ตาม CSV"
   ]
  },
  {
   "cell_type": "code",
   "execution_count": 5,
   "id": "a7a90221",
   "metadata": {},
   "outputs": [
    {
     "name": "stdout",
     "output_type": "stream",
     "text": [
      "[INFO] Chest_Changes.csv: ข้อความ 1022 รายการ, รูป 544 ไฟล์ → จับคู่แบบ TRUNCATE ให้เหลือ/เท่ากับ 544\n",
      "[INFO] Degenerative_Infectious.csv: ข้อความ 1046 รายการ, รูป 594 ไฟล์ → จับคู่แบบ TRUNCATE ให้เหลือ/เท่ากับ 594\n",
      "[INFO] Higher_Density.csv: ข้อความ 1019 รายการ, รูป 678 ไฟล์ → จับคู่แบบ TRUNCATE ให้เหลือ/เท่ากับ 678\n",
      "[INFO] Inflammatory_Pneumonia.csv: ข้อความ 1015 รายการ, รูป 1060 ไฟล์ → จับคู่แบบ TRUNCATE ให้เหลือ/เท่ากับ 1060\n",
      "[INFO] Lower_Density.csv: ข้อความ 1015 รายการ, รูป 629 ไฟล์ → จับคู่แบบ TRUNCATE ให้เหลือ/เท่ากับ 629\n",
      "[INFO] Mediastinal_Changes.csv: ข้อความ 1023 รายการ, รูป 596 ไฟล์ → จับคู่แบบ TRUNCATE ให้เหลือ/เท่ากับ 596\n",
      "[INFO] Normal.csv: ข้อความ 1024 รายการ, รูป 1340 ไฟล์ → จับคู่แบบ TRUNCATE ให้เหลือ/เท่ากับ 1340\n",
      "[INFO] Obstructive.csv: ข้อความ 1124 รายการ, รูป 644 ไฟล์ → จับคู่แบบ TRUNCATE ให้เหลือ/เท่ากับ 644\n",
      "จำนวนภาพต่อคลาส: {'Normal': 1340, 'Inflammatory_Pneumonia': 1060, 'Higher_Density': 678, 'Obstructive': 644, 'Lower_Density': 629, 'Mediastinal_Changes': 596, 'Degenerative_Infectious': 594, 'Chest_Changes': 544}\n",
      "Dataset({\n",
      "    features: ['image', 'text', '__class__'],\n",
      "    num_rows: 6085\n",
      "})\n",
      "{'image': Image(mode=None, decode=True), 'text': Value('string'), '__class__': Value('string')}\n",
      "{'image': <PIL.JpegImagePlugin.JpegImageFile image mode=L size=450x450 at 0x20111F30250>, 'text': 'Consolidation seen as a confluent area of increased attenuation in the right upper lobe. Findings are compatible with Lobar pneumonia. The air bronchogram sign is clearly visible within this region, indicating patent airways despite the surrounding alveolar filling. There is no evidence of significant pleural effusion or mediastinal shift. Clinical correlation with fever and cough would be beneficial.', '__class__': 'Chest_Changes'}\n"
     ]
    },
    {
     "name": "stderr",
     "output_type": "stream",
     "text": [
      "Saving the dataset (1/1 shards): 100%|██████████| 6085/6085 [00:44<00:00, 135.83 examples/s]\n"
     ]
    }
   ],
   "source": [
    "from pathlib import Path\n",
    "import pandas as pd\n",
    "from datasets import Dataset, Image as HFImage\n",
    "\n",
    "# --- พาธหลัก ---\n",
    "images_root = Path(\"X-ray Lung Diseases Images (9 classes)\")\n",
    "csv_dir     = Path(\"prepare_data/disease_output/csv\")\n",
    "\n",
    "# --- 8 คลาสปลายทาง ---\n",
    "ALLOWED_CLASSES = {\n",
    "    \"Chest_Changes\",\n",
    "    \"Degenerative_Infectious\",\n",
    "    \"Higher_Density\",\n",
    "    \"Inflammatory_Pneumonia\",\n",
    "    \"Lower_Density\",\n",
    "    \"Mediastinal_Changes\",\n",
    "    \"Normal\",\n",
    "    \"Obstructive\",\n",
    "}\n",
    "\n",
    "valid_exts = {\".jpg\", \".jpeg\", \".png\", \".bmp\", \".tif\", \".tiff\"}\n",
    "\n",
    "# --- นโยบายเมื่อจำนวน text != จำนวนรูป ---\n",
    "#   \"TRUNCATE\": ตัดทิ้งข้อความส่วนเกิน/ส่วนเกินของอะไรก็ตามให้พอดีกับจำนวนรูป (ยึดรูปเป็นหลัก)\n",
    "#   \"CYCLE\": เติม/ทำซ้ำข้อความแบบวนลูปให้เท่าจำนวนรูป\n",
    "#   \"PAD_CLASS\": เติมด้วยชื่อคลาส\n",
    "MISMATCH_POLICY = \"TRUNCATE\"  # <- แก้ได้ตามต้องการ\n",
    "\n",
    "def pick_col(cols, candidates):\n",
    "    for c in candidates:\n",
    "        if c in cols:\n",
    "            return c\n",
    "    return None\n",
    "\n",
    "def align_texts_to_images(text_series: pd.Series, n_images: int, cls_name: str) -> pd.Series:\n",
    "    \"\"\"ปรับความยาวข้อความให้เท่ากับจำนวนรูป ตามนโยบาย MISMATCH_POLICY\"\"\"\n",
    "    s = text_series.fillna(\"\").astype(str).reset_index(drop=True)\n",
    "    n_text = len(s)\n",
    "\n",
    "    if n_text == n_images:\n",
    "        return s\n",
    "\n",
    "    if MISMATCH_POLICY == \"TRUNCATE\":\n",
    "        # ยึดจำนวนรูปเป็นหลัก: ตัดให้พอดีจำนวนรูป\n",
    "        if n_text >= n_images:\n",
    "            return s.iloc[:n_images].reset_index(drop=True)\n",
    "        else:\n",
    "            # ข้อความน้อยกว่ารูป → เติมด้วยชื่อคลาสจนเท่ารูป\n",
    "            pad = pd.Series([cls_name] * (n_images - n_text))\n",
    "            return pd.concat([s, pad], ignore_index=True)\n",
    "\n",
    "    elif MISMATCH_POLICY == \"CYCLE\":\n",
    "        if n_text == 0:\n",
    "            return pd.Series([cls_name] * n_images)\n",
    "        reps = (n_images + n_text - 1) // n_text\n",
    "        out = pd.concat([s] * reps, ignore_index=True).iloc[:n_images]\n",
    "        return out.reset_index(drop=True)\n",
    "\n",
    "    elif MISMATCH_POLICY == \"PAD_CLASS\":\n",
    "        if n_text >= n_images:\n",
    "            return s.iloc[:n_images].reset_index(drop=True)\n",
    "        else:\n",
    "            pad = pd.Series([cls_name] * (n_images - n_text))\n",
    "            return pd.concat([s, pad], ignore_index=True)\n",
    "\n",
    "    else:\n",
    "        raise ValueError(f\"Unknown MISMATCH_POLICY: {MISMATCH_POLICY}\")\n",
    "\n",
    "# --- อ่านและประกอบข้อมูลจากทุก CSV ---\n",
    "rows = []\n",
    "for csv_path in sorted(csv_dir.glob(\"*.csv\")):\n",
    "    cls = csv_path.stem.strip()\n",
    "    if cls not in ALLOWED_CLASSES:\n",
    "        continue\n",
    "\n",
    "    df = pd.read_csv(csv_path, encoding=\"utf-8-sig\")\n",
    "    df[\"__csv_name__\"] = cls\n",
    "\n",
    "    filename_col = pick_col(df.columns, [\"filename\", \"file\", \"image\", \"img\", \"path\", \"filepath\"])\n",
    "    text_col     = pick_col(df.columns, [\"text\", \"caption\", \"report\", \"label_text\", \"description\"])\n",
    "    class_col    = pick_col(df.columns, [\"class\", \"label\", \"category\", \"disease\", \"folder\"])\n",
    "\n",
    "    # เตรียมไฟล์รูปในโฟลเดอร์นี้ (sort เพื่อให้จับคู่ตามลำดับชื่อไฟล์)\n",
    "    img_files = sorted(\n",
    "        [p for p in (images_root / cls).rglob(\"*\") if p.suffix.lower() in valid_exts and p.is_file()],\n",
    "        key=lambda p: p.name\n",
    "    )\n",
    "    n_img = len(img_files)\n",
    "\n",
    "    if n_img == 0:\n",
    "        print(f\"[WARN] โฟลเดอร์ {cls} ไม่มีรูป ถูกข้าม\")\n",
    "        continue\n",
    "\n",
    "    # ทำคอลัมน์ข้อความ (ถ้าไม่มี text ให้ใช้ชื่อคลาสเป็นข้อความ)\n",
    "    if text_col is None:\n",
    "        df[\"__text__\"] = cls\n",
    "        n_text = len(df)\n",
    "    else:\n",
    "        df[\"__text__\"] = df[text_col].astype(str)\n",
    "        n_text = len(df)\n",
    "\n",
    "    # ถ้ามี filename ให้ใช้จับคู่ตรงชื่อไฟล์ + ยึดจำนวนรูปเป็นหลัก\n",
    "    if filename_col is not None:\n",
    "        df = df.copy()\n",
    "        df[\"__filename__\"] = df[filename_col].astype(str).map(lambda x: Path(x).name)\n",
    "        # ทำดัชนีข้อความโดยชื่อไฟล์\n",
    "        text_by_name = df.drop_duplicates(subset=\"__filename__\")[[\"__filename__\", \"__text__\"]].set_index(\"__filename__\")[\"__text__\"]\n",
    "\n",
    "        # สร้างลิสต์ตามลำดับรูปจริง\n",
    "        image_names = [p.name for p in img_files]\n",
    "        # ดึงข้อความตามชื่อไฟล์ ถ้าไม่พบให้ fallback เป็นชื่อคลาส\n",
    "        aligned_texts = [text_by_name.get(name, cls) for name in image_names]\n",
    "        aligned_texts = pd.Series(aligned_texts, dtype=str)\n",
    "\n",
    "        # ไม่ต้องสนใจจำนวนแถวใน CSV ว่ามาก/น้อยกว่า — ยึดจำนวนรูปเป็นหลักแล้วเรียบร้อย\n",
    "        use_texts = aligned_texts\n",
    "\n",
    "    else:\n",
    "        # ไม่มี filename → จับคู่ตามลำดับ และ \"ยึดจำนวนรูปเป็นหลัก\" ด้วยนโยบายที่ตั้งไว้\n",
    "        use_texts = align_texts_to_images(df[\"__text__\"], n_img, cls)\n",
    "\n",
    "        # แจ้งเตือนความต่าง (ช่วย debug)\n",
    "        if len(df) != n_img:\n",
    "            print(f\"[INFO] {csv_path.name}: ข้อความ {len(df)} รายการ, รูป {n_img} ไฟล์ → จับคู่แบบ {MISMATCH_POLICY} ให้เหลือ/เท่ากับ {n_img}\")\n",
    "\n",
    "    # ประกอบ DataFrame ของคลาสนี้\n",
    "    out = pd.DataFrame({\n",
    "        \"image_path\": [p.as_posix() for p in img_files],\n",
    "        \"text\": use_texts,\n",
    "        \"__class__\": cls\n",
    "    })\n",
    "    rows.append(out)\n",
    "\n",
    "# รวมทุกคลาส\n",
    "if not rows:\n",
    "    raise RuntimeError(\"ไม่พบข้อมูลหลังประมวลผล — ตรวจโฟลเดอร์/CSV อีกครั้ง\")\n",
    "\n",
    "meta = pd.concat(rows, ignore_index=True)\n",
    "\n",
    "# กรองเฉพาะไฟล์ที่มีอยู่จริง และลบซ้ำ\n",
    "meta = meta[meta[\"image_path\"].map(lambda p: p and Path(p).exists())].drop_duplicates().reset_index(drop=True)\n",
    "\n",
    "# รายงานจำนวนภาพต่อคลาส\n",
    "print(\"จำนวนภาพต่อคลาส:\", meta[\"__class__\"].value_counts().to_dict())\n",
    "\n",
    "# สร้าง HF Dataset\n",
    "hf = Dataset.from_pandas(meta.rename(columns={\"image_path\": \"image\"}), preserve_index=False)\n",
    "hf = hf.cast_column(\"image\", HFImage())\n",
    "\n",
    "print(hf)\n",
    "print(hf.features)\n",
    "print(hf[0])\n",
    "\n",
    "hf.save_to_disk(\"lung8_image_text\")"
   ]
  },
  {
   "cell_type": "markdown",
   "id": "f607e575",
   "metadata": {},
   "source": [
    "แสดงตัวอย่างตัวแรกเพื่อทดสอบ"
   ]
  },
  {
   "cell_type": "code",
   "execution_count": 12,
   "id": "92606afa",
   "metadata": {},
   "outputs": [
    {
     "data": {
      "text/plain": [
       "Dataset({\n",
       "    features: ['image', 'text', '__class__'],\n",
       "    num_rows: 6085\n",
       "})"
      ]
     },
     "execution_count": 12,
     "metadata": {},
     "output_type": "execute_result"
    }
   ],
   "source": [
    "hf"
   ]
  },
  {
   "cell_type": "code",
   "execution_count": 9,
   "id": "f1c88c8c",
   "metadata": {},
   "outputs": [
    {
     "data": {
      "image/jpeg": "[encoded data removed]",
      "image/png": "[encoded data removed]",
      "text/plain": [
       "<PIL.JpegImagePlugin.JpegImageFile image mode=L size=450x450>"
      ]
     },
     "execution_count": 9,
     "metadata": {},
     "output_type": "execute_result"
    }
   ],
   "source": [
    "hf[0][\"image\"]"
   ]
  },
  {
   "cell_type": "code",
   "execution_count": 10,
   "id": "c097666d",
   "metadata": {},
   "outputs": [
    {
     "data": {
      "text/plain": [
       "'Consolidation seen as a confluent area of increased attenuation in the right upper lobe. Findings are compatible with Lobar pneumonia. The air bronchogram sign is clearly visible within this region, indicating patent airways despite the surrounding alveolar filling. There is no evidence of significant pleural effusion or mediastinal shift. Clinical correlation with fever and cough would be beneficial.'"
      ]
     },
     "execution_count": 10,
     "metadata": {},
     "output_type": "execute_result"
    }
   ],
   "source": [
    "hf[0][\"text\"]"
   ]
  },
  {
   "cell_type": "code",
   "execution_count": 11,
   "id": "403d927f",
   "metadata": {},
   "outputs": [
    {
     "data": {
      "text/plain": [
       "'Chest_Changes'"
      ]
     },
     "execution_count": 11,
     "metadata": {},
     "output_type": "execute_result"
    }
   ],
   "source": [
    "hf[0][\"__class__\"]"
   ]
  },
  {
   "cell_type": "markdown",
   "id": "b5776276",
   "metadata": {},
   "source": [
    "#### Main: โหลด dataset จาก local"
   ]
  },
  {
   "cell_type": "code",
   "execution_count": 3,
   "id": "0d104395",
   "metadata": {},
   "outputs": [
    {
     "name": "stdout",
     "output_type": "stream",
     "text": [
      "Dataset({\n",
      "    features: ['image', 'text', '__class__'],\n",
      "    num_rows: 6085\n",
      "})\n",
      "{'image': Image(mode=None, decode=True), 'text': Value('string'), '__class__': Value('string')}\n"
     ]
    }
   ],
   "source": [
    "from datasets import load_from_disk\n",
    "\n",
    "hf = load_from_disk(\"lung8_image_text\")\n",
    "\n",
    "print(hf)\n",
    "print(hf.features)"
   ]
  },
  {
   "cell_type": "markdown",
   "id": "d97ee72f",
   "metadata": {},
   "source": [
    "- ส่ง train_hf ให้เป็น train_dataset และ val_hf ให้เป็น eval_dataset ระหว่างฝึก\n",
    "- ตอนจบเรียก trainer.evaluate(eval_dataset=test_hf) เพื่อรายงานผล บน test set"
   ]
  },
  {
   "cell_type": "code",
   "execution_count": 4,
   "id": "802ccea4",
   "metadata": {},
   "outputs": [
    {
     "name": "stdout",
     "output_type": "stream",
     "text": [
      "Dataset({\n",
      "    features: ['image', 'text', '__class__'],\n",
      "    num_rows: 4259\n",
      "})\n",
      "Dataset({\n",
      "    features: ['image', 'text', '__class__'],\n",
      "    num_rows: 913\n",
      "})\n",
      "Dataset({\n",
      "    features: ['image', 'text', '__class__'],\n",
      "    num_rows: 913\n",
      "})\n"
     ]
    }
   ],
   "source": [
    "# แบ่ง train/test (30%) ก่อน\n",
    "splits = hf.train_test_split(test_size=0.3, seed=42, shuffle=True)\n",
    "train_hf = splits[\"train\"]\n",
    "tmp_hf   = splits[\"test\"]\n",
    "\n",
    "# แบ่ง tmp ให้เป็น val/test อย่างละครึ่ง → ได้ 15/15\n",
    "vt = tmp_hf.train_test_split(test_size=0.5, seed=42, shuffle=True)\n",
    "val_hf  = vt[\"train\"]\n",
    "test_hf = vt[\"test\"]\n",
    "\n",
    "print(train_hf)\n",
    "print(val_hf)\n",
    "print(test_hf)"
   ]
  },
  {
   "cell_type": "markdown",
   "id": "48b13f9c",
   "metadata": {},
   "source": [
    "### 5. แปลง Dataset เป็น Conversation Format\n",
    "\n",
    "- แปลงข้อมูลให้เป็นรูปแบบ Chat (user → assistant)\n",
    "- user → ส่งภาพ + คำสั่ง\n",
    "- assistant → ตอบกลับด้วยข้อความ"
   ]
  },
  {
   "cell_type": "markdown",
   "id": "b8c7517f",
   "metadata": {},
   "source": [
    "#### Test: (ภาพสมการ LaTeX)"
   ]
  },
  {
   "cell_type": "code",
   "execution_count": null,
   "id": "7436b361",
   "metadata": {},
   "outputs": [],
   "source": [
    "instruction = \"Write the LaTeX representation for this image.\"\n",
    "\n",
    "def convert_to_conversation(sample):\n",
    "    conversation = [\n",
    "        {\"role\": \"user\", \"content\" : [\n",
    "            {\"type\" : \"text\",  \"text\"  : instruction},\n",
    "            {\"type\" : \"image\", \"image\" : sample[\"image\"]} ]\n",
    "        },\n",
    "        {\"role\" : \"assistant\", \"content\" : [\n",
    "            {\"type\" : \"text\", \"text\" : sample[\"text\"]} ]\n",
    "        },\n",
    "    ]\n",
    "    return {\"messages\" : conversation}"
   ]
  },
  {
   "cell_type": "code",
   "execution_count": null,
   "id": "399b107e",
   "metadata": {},
   "outputs": [],
   "source": [
    "converted_dataset = [convert_to_conversation(sample) for sample in dataset]"
   ]
  },
  {
   "cell_type": "code",
   "execution_count": 16,
   "id": "fa435156",
   "metadata": {},
   "outputs": [
    {
     "data": {
      "text/plain": [
       "{'messages': [{'role': 'user',\n",
       "   'content': [{'type': 'text',\n",
       "     'text': 'Write the LaTeX representation for this image.'},\n",
       "    {'type': 'image',\n",
       "     'image': <PIL.PngImagePlugin.PngImageFile image mode=RGB size=160x40>}]},\n",
       "  {'role': 'assistant',\n",
       "   'content': [{'type': 'text',\n",
       "     'text': '{ \\\\frac { N } { M } } \\\\in { \\\\bf Z } , { \\\\frac { M } { P } } \\\\in { \\\\bf Z } , { \\\\frac { P } { Q } } \\\\in { \\\\bf Z }'}]}]}"
      ]
     },
     "execution_count": 16,
     "metadata": {},
     "output_type": "execute_result"
    }
   ],
   "source": [
    "converted_dataset[0]"
   ]
  },
  {
   "cell_type": "markdown",
   "id": "7da60a55",
   "metadata": {},
   "source": [
    "#### Main : dataset ของเราเอง"
   ]
  },
  {
   "cell_type": "code",
   "execution_count": 5,
   "id": "8e13b16b",
   "metadata": {},
   "outputs": [
    {
     "data": {
      "text/plain": [
       "{'messages': [{'role': 'user',\n",
       "   'content': [{'type': 'text',\n",
       "     'text': 'Describe the chest X-ray using precise clinical terms. Identify one main diagnostic category from: Chest_Changes, Degenerative_Infectious, Higher_Density, Inflammatory_Pneumonia, Lower_Density, Mediastinal_Changes, Normal, or Obstructive.'},\n",
       "    {'type': 'image',\n",
       "     'image': <PIL.JpegImagePlugin.JpegImageFile image mode=L size=450x450>}]},\n",
       "  {'role': 'assistant',\n",
       "   'content': [{'type': 'text',\n",
       "     'text': 'Class: Lower_Density\\nExplanation: Collapsed lung / visceral pleural line observed showing visceral pleural line with absent peripheral lung markings on the left side. A small amount of apical collapse is noted. The remaining lung fields are clear. No associated pleural effusion is present. Findings are compatible with Lower density (pneumothorax, pneumomediastinum, pneumoperitoneum).'}]}]}"
      ]
     },
     "execution_count": 5,
     "metadata": {},
     "output_type": "execute_result"
    }
   ],
   "source": [
    "instruction = \"Describe the chest X-ray using precise clinical terms. Identify one main diagnostic category from: Chest_Changes, Degenerative_Infectious, Higher_Density, Inflammatory_Pneumonia, Lower_Density, Mediastinal_Changes, Normal, or Obstructive.\"\n",
    "\n",
    "def convert_to_conversation(sample):\n",
    "    cls_name = sample[\"__class__\"]\n",
    "    description = sample[\"text\"]\n",
    "\n",
    "    answer = f\"Class: {cls_name}\\nExplanation: {description}\"\n",
    "    \n",
    "    conversation = [\n",
    "        {\"role\": \"user\", \"content\" : [\n",
    "            {\"type\" : \"text\",  \"text\"  : instruction},\n",
    "            {\"type\" : \"image\", \"image\" : sample[\"image\"]} ]\n",
    "        },\n",
    "        {\"role\" : \"assistant\", \"content\" : [\n",
    "            {\"type\" : \"text\", \"text\" : answer} ]\n",
    "        },\n",
    "    ]\n",
    "    \n",
    "    return {\"messages\" : conversation}\n",
    "\n",
    "converted_dataset = [convert_to_conversation(sample) for sample in train_hf]\n",
    "\n",
    "converted_dataset_val = [convert_to_conversation(sample) for sample in val_hf]\n",
    "\n",
    "converted_dataset_test = [convert_to_conversation(sample) for sample in test_hf]\n",
    "\n",
    "converted_dataset[0]"
   ]
  },
  {
   "cell_type": "markdown",
   "id": "89f70879",
   "metadata": {},
   "source": [
    "### 6. ทดสอบโมเดลก่อนฝึก"
   ]
  },
  {
   "cell_type": "markdown",
   "id": "37f2837c",
   "metadata": {},
   "source": [
    "#### Test: (ภาพสมการ LaTeX)"
   ]
  },
  {
   "cell_type": "code",
   "execution_count": 17,
   "id": "631f6654",
   "metadata": {},
   "outputs": [
    {
     "name": "stdout",
     "output_type": "stream",
     "text": [
      "The given equation in LaTeX is:\n",
      "\n",
      "\\begin{equation}\n",
      "H'= \\beta \\mathcal{N} \\int \\mathrm{d}\\lambda\\! \\bigg{\\{}  \\frac{1}{2\\beta^2\\!\\lambda^2}\\partial_{\\zeta}\\zeta^* \\partial_{\\bar{\\zeta}} \\zeta + V(\\lambda) \\zeta^* \\zeta \\bigg{\\}}\\ .\n",
      "\\end{equation}\n",
      "\n",
      "This represents a Hamiltonian integral expression where \\(H'\\) denotes a Hamiltonian, \\( \\beta \\), \\( \\math\n"
     ]
    }
   ],
   "source": [
    "FastVisionModel.for_inference(model) # Enable for inference!\n",
    "\n",
    "image = dataset[2][\"image\"]\n",
    "instruction = \"Write the LaTeX representation for this image.\"\n",
    "\n",
    "messages = [\n",
    "    {\"role\": \"user\", \"content\": [\n",
    "        {\"type\": \"image\"},\n",
    "        {\"type\": \"text\", \"text\": instruction}\n",
    "    ]}\n",
    "]\n",
    "input_text = tokenizer.apply_chat_template(messages, add_generation_prompt = True)\n",
    "inputs = tokenizer(\n",
    "    image,\n",
    "    input_text,\n",
    "    add_special_tokens = False,\n",
    "    return_tensors = \"pt\",\n",
    ").to(\"cuda\")\n",
    "\n",
    "from transformers import TextStreamer\n",
    "text_streamer = TextStreamer(tokenizer, skip_prompt = True)\n",
    "_ = model.generate(**inputs, streamer = text_streamer, max_new_tokens = 128,\n",
    "                    use_cache = True, temperature = 1.5, min_p = 0.1)"
   ]
  },
  {
   "cell_type": "markdown",
   "id": "275b4461",
   "metadata": {},
   "source": [
    "#### Main: "
   ]
  },
  {
   "cell_type": "code",
   "execution_count": 22,
   "id": "17148a68",
   "metadata": {},
   "outputs": [
    {
     "name": "stdout",
     "output_type": "stream",
     "text": [
      "The given chest X-ray demonstrates signs of **Pleural Effusion**. \n",
      "\n",
      "The patient shows:\n",
      "- A fluid-filled left hemithorax with blunting of costophrenic angles, indicative of pleural effusion.\n",
      "- The right-sided expansion of the chest may indicate asymmetry but this is not definitive and could be secondary to other pathologies such as mediastinal shift or atelectasis in the opposite lung. Further imaging or clinical correlation is needed for an exact diagnosis.\n",
      "\n",
      "In summary:\n",
      "- **Chest_Changes**: The presence of a significant pleural effusion requires prompt medical evaluation considering the possibility of underlying pathology\n"
     ]
    }
   ],
   "source": [
    "FastVisionModel.for_inference(model) # Enable for inference!\n",
    "\n",
    "image = hf[0][\"image\"]\n",
    "instruction = \"Describe the chest X-ray using precise clinical terms. Identify one main diagnostic category from: Chest_Changes, Degenerative_Infectious, Higher_Density, Inflammatory_Pneumonia, Lower_Density, Mediastinal_Changes, Normal, or Obstructive.\"\n",
    "\n",
    "messages = [\n",
    "    {\"role\": \"user\", \"content\": [\n",
    "        {\"type\": \"image\"},\n",
    "        {\"type\": \"text\", \"text\": instruction}\n",
    "    ]}\n",
    "]\n",
    "input_text = tokenizer.apply_chat_template(messages, add_generation_prompt = True)\n",
    "inputs = tokenizer(\n",
    "    image,\n",
    "    input_text,\n",
    "    add_special_tokens = False,\n",
    "    return_tensors = \"pt\",\n",
    ").to(\"cuda\")\n",
    "\n",
    "from transformers import TextStreamer\n",
    "text_streamer = TextStreamer(tokenizer, skip_prompt = True)\n",
    "_ = model.generate(**inputs, streamer = text_streamer, max_new_tokens = 128,\n",
    "                    use_cache = True, temperature = 1.5, min_p = 0.1)"
   ]
  },
  {
   "cell_type": "markdown",
   "id": "0f20275e",
   "metadata": {},
   "source": [
    "### 7. ฝึกโมเดล (Training)\n",
    "\n",
    "- ใช้ SFTTrainer ทำการ supervised fine-tuning\n",
    "- ใช้ข้อมูล converted_dataset ที่มีคู่ (ภาพ → LaTeX)\n",
    "- กำหนด hyperparameters เช่น batch size, learning rate"
   ]
  },
  {
   "cell_type": "markdown",
   "id": "77ecadcd",
   "metadata": {},
   "source": [
    "ในการแสดง Performance Graph สร้างฟังก์ชันก็บค่า Training Metrics"
   ]
  },
  {
   "cell_type": "code",
   "execution_count": 6,
   "id": "3b6fd43c",
   "metadata": {},
   "outputs": [],
   "source": [
    "import re\n",
    "import numpy as np\n",
    "from evaluate import load\n",
    "\n",
    "# โหลด metric BLEU เพียงครั้งเดียว\n",
    "bleu = load(\"bleu\")\n",
    "\n",
    "# รายชื่อคลาสที่อนุญาต\n",
    "ALLOWED_CLASSES = {\n",
    "    \"Chest_Changes\",\n",
    "    \"Degenerative_Infectious\",\n",
    "    \"Higher_Density\",\n",
    "    \"Inflammatory_Pneumonia\",\n",
    "    \"Lower_Density\",\n",
    "    \"Mediastinal_Changes\",\n",
    "    \"Normal\",\n",
    "    \"Obstructive\",\n",
    "}\n",
    "\n",
    "def compute_metrics(eval_preds):\n",
    "    preds, labels = eval_preds\n",
    "\n",
    "    # ===== ฟังก์ชันย่อยภายในสำหรับดึงชื่อคลาส =====\n",
    "    def extract_class(text: str):\n",
    "        \"\"\"ดึงชื่อคลาสจากข้อความ (ถ้ามี)\"\"\"\n",
    "        if not isinstance(text, str):\n",
    "            return None\n",
    "        for cls in ALLOWED_CLASSES:\n",
    "            # ใช้ regex ค้นชื่อคลาสแบบ exact (ไม่สนข้อความอื่นรอบ ๆ)\n",
    "            if re.search(rf\"\\b{re.escape(cls)}\\b\", text):\n",
    "                return cls\n",
    "        return None\n",
    "    # ===============================================\n",
    "\n",
    "    # แปลง token IDs เป็นข้อความ\n",
    "    preds = tokenizer.batch_decode(preds, skip_special_tokens=True)\n",
    "    labels = tokenizer.batch_decode(labels, skip_special_tokens=True)\n",
    "\n",
    "    # ดึงชื่อคลาสจาก pred และ label\n",
    "    pred_classes = [extract_class(p) for p in preds]\n",
    "    label_classes = [extract_class(l) for l in labels]\n",
    "\n",
    "    # คำนวณ accuracy — นับถูกถ้าชื่อคลาสตรงกัน\n",
    "    correct, total = 0, 0\n",
    "    for p_cls, l_cls in zip(pred_classes, label_classes):\n",
    "        if l_cls is not None:\n",
    "            total += 1\n",
    "            if p_cls == l_cls:\n",
    "                correct += 1\n",
    "    acc = correct / total if total > 0 else 0.0\n",
    "\n",
    "    # คำนวณ BLEU score (ความใกล้เคียงข้อความ)\n",
    "    bleu_score = bleu.compute(\n",
    "        predictions=[[p.split()] for p in preds],\n",
    "        references=[[[l.split()]] for l in labels]\n",
    "    )[\"bleu\"]\n",
    "\n",
    "    # คืนค่า metric ทั้งคู่\n",
    "    return {\n",
    "        \"eval_accuracy\": acc,\n",
    "        \"eval_bleu\": bleu_score,\n",
    "    }"
   ]
  },
  {
   "cell_type": "markdown",
   "id": "c0e31448",
   "metadata": {},
   "source": [
    "แล้วเพิ่มใน SFTTrainer"
   ]
  },
  {
   "cell_type": "code",
   "execution_count": 7,
   "id": "a23dff3f",
   "metadata": {},
   "outputs": [
    {
     "name": "stdout",
     "output_type": "stream",
     "text": [
      "Unsloth: Model does not have a default image size - using 512\n"
     ]
    }
   ],
   "source": [
    "from unsloth import is_bf16_supported\n",
    "from unsloth.trainer import UnslothVisionDataCollator\n",
    "from trl import SFTTrainer, SFTConfig\n",
    "import torch\n",
    "\n",
    "# เร่งคณิตศาสตร์บน GPU (Ampere+)\n",
    "try:\n",
    "    torch.backends.cuda.matmul.allow_tf32 = True\n",
    "    torch.set_float32_matmul_precision(\"high\")\n",
    "except Exception:\n",
    "    pass\n",
    "\n",
    "FastVisionModel.for_training(model)  # enable training\n",
    "\n",
    "trainer = SFTTrainer(\n",
    "    model = model,\n",
    "    tokenizer = tokenizer,\n",
    "    data_collator = UnslothVisionDataCollator(model, tokenizer),\n",
    "    train_dataset = converted_dataset,\n",
    "    eval_dataset = converted_dataset_val,\n",
    "    args = SFTConfig(\n",
    "        # ===== Training schedule =====\n",
    "        per_device_train_batch_size = 2,\n",
    "        per_device_eval_batch_size  = 4,\n",
    "        gradient_accumulation_steps = 4,\n",
    "        warmup_steps = 5,\n",
    "        max_steps = 30,\n",
    "        seed = 3407,\n",
    "\n",
    "        # ===== Eval =====\n",
    "        eval_strategy = \"steps\",\n",
    "        eval_steps = 10,\n",
    "        prediction_loss_only = True,\n",
    "        metric_for_best_model = \"eval_loss\",\n",
    "        greater_is_better = False,\n",
    "        eval_accumulation_steps = 2,\n",
    "\n",
    "        # ===== Precision / dtype =====\n",
    "        fp16 = not is_bf16_supported(),\n",
    "        bf16 = is_bf16_supported(),\n",
    "        tf32 = True,\n",
    "\n",
    "        # ===== Optimization =====\n",
    "        learning_rate = 2e-4,\n",
    "        optim = \"adamw_8bit\",\n",
    "        weight_decay = 0.01,\n",
    "        lr_scheduler_type = \"linear\",\n",
    "        max_grad_norm = 1.0,\n",
    "\n",
    "        # ===== Dataloader (สำคัญ) =====\n",
    "        dataloader_num_workers = 0,      # 👈 ปิด multi-worker กันปัญหา pickle\n",
    "        dataloader_pin_memory = True,\n",
    "        dataloader_drop_last = False,\n",
    "        # อย่าใส่ dataloader_prefetch_factor / persistent_workers เมื่อ num_workers=0\n",
    "\n",
    "        # ===== Logging / Checkpoint IO =====\n",
    "        report_to = [\"tensorboard\"],\n",
    "        logging_strategy = \"steps\",\n",
    "        logging_steps = 1,\n",
    "        save_strategy = \"no\",\n",
    "        save_total_limit = 1,\n",
    "        load_best_model_at_end = False,\n",
    "\n",
    "        # ===== Output =====\n",
    "        output_dir = \"outputs\",\n",
    "\n",
    "        # ===== Vision finetuning (required) =====\n",
    "        remove_unused_columns = False,\n",
    "        dataset_text_field = \"\",\n",
    "        dataset_kwargs = {\"skip_prepare_dataset\": True},\n",
    "        dataset_num_proc = 1,            # 👈 กันปัญหา pickle ตอน map/prepare (ถ้ามี)\n",
    "        max_seq_length = 1024,\n",
    "\n",
    "        # ===== Memory saver =====\n",
    "        gradient_checkpointing = True,\n",
    "    ),\n",
    "    compute_metrics = compute_metrics\n",
    ")\n",
    "\n",
    "trainer.predict_with_generate = True\n",
    "trainer.gen_kwargs = {\n",
    "    \"max_new_tokens\": 128,\n",
    "    \"do_sample\": False,\n",
    "    \"return_dict_in_generate\": False,\n",
    "    \"output_scores\": False,\n",
    "}"
   ]
  },
  {
   "cell_type": "code",
   "execution_count": 8,
   "id": "0bc8b022",
   "metadata": {},
   "outputs": [
    {
     "name": "stdout",
     "output_type": "stream",
     "text": [
      "GPU = NVIDIA GeForce RTX 4050 Laptop GPU. Max memory = 5.997 GB.\n",
      "2.488 GB of memory reserved.\n"
     ]
    }
   ],
   "source": [
    "#@title Show current memory stats\n",
    "gpu_stats = torch.cuda.get_device_properties(0)\n",
    "start_gpu_memory = round(torch.cuda.max_memory_reserved() / 1024 / 1024 / 1024, 3)\n",
    "max_memory = round(gpu_stats.total_memory / 1024 / 1024 / 1024, 3)\n",
    "print(f\"GPU = {gpu_stats.name}. Max memory = {max_memory} GB.\")\n",
    "print(f\"{start_gpu_memory} GB of memory reserved.\")"
   ]
  },
  {
   "cell_type": "code",
   "execution_count": 9,
   "id": "37d31789",
   "metadata": {},
   "outputs": [
    {
     "name": "stderr",
     "output_type": "stream",
     "text": [
      "The tokenizer has new PAD/BOS/EOS tokens that differ from the model config and generation config. The model config and generation config were aligned accordingly, being updated with the tokenizer's values. Updated tokens: {'bos_token_id': None}.\n",
      "==((====))==  Unsloth - 2x faster free finetuning | Num GPUs used = 1\n",
      "   \\\\   /|    Num examples = 4,259 | Num Epochs = 1 | Total steps = 30\n",
      "O^O/ \\_/ \\    Batch size per device = 2 | Gradient accumulation steps = 4\n",
      "\\        /    Data Parallel GPUs = 1 | Total batch size (2 x 4 x 1) = 8\n",
      " \"-____-\"     Trainable parameters = 41,084,928 of 3,795,707,904 (1.08% trained)\n"
     ]
    },
    {
     "name": "stdout",
     "output_type": "stream",
     "text": [
      "Unsloth: Will smartly offload gradients to save VRAM!\n"
     ]
    },
    {
     "data": {
      "text/html": [
       "\n",
       "    <div>\n",
       "      \n",
       "      <progress value='30' max='30' style='width:300px; height:20px; vertical-align: middle;'></progress>\n",
       "      [30/30 21:14, Epoch 0/1]\n",
       "    </div>\n",
       "    <table border=\"1\" class=\"dataframe\">\n",
       "  <thead>\n",
       " <tr style=\"text-align: left;\">\n",
       "      <th>Step</th>\n",
       "      <th>Training Loss</th>\n",
       "      <th>Validation Loss</th>\n",
       "    </tr>\n",
       "  </thead>\n",
       "  <tbody>\n",
       "    <tr>\n",
       "      <td>10</td>\n",
       "      <td>0.560600</td>\n",
       "      <td>2.139121</td>\n",
       "    </tr>\n",
       "    <tr>\n",
       "      <td>20</td>\n",
       "      <td>0.304200</td>\n",
       "      <td>1.177546</td>\n",
       "    </tr>\n",
       "    <tr>\n",
       "      <td>30</td>\n",
       "      <td>0.235800</td>\n",
       "      <td>1.019091</td>\n",
       "    </tr>\n",
       "  </tbody>\n",
       "</table><p>"
      ],
      "text/plain": [
       "<IPython.core.display.HTML object>"
      ]
     },
     "metadata": {},
     "output_type": "display_data"
    },
    {
     "name": "stderr",
     "output_type": "stream",
     "text": [
      "Unsloth: Not an error, but Qwen2_5_VLForConditionalGeneration does not accept `num_items_in_batch`.\n",
      "Using gradient accumulation will be very slightly less accurate.\n",
      "Read more on gradient accumulation issues here: https://unsloth.ai/blog/gradient\n"
     ]
    }
   ],
   "source": [
    "from unsloth import unsloth_train\n",
    "\n",
    "trainer_stats = unsloth_train(trainer)"
   ]
  },
  {
   "cell_type": "code",
   "execution_count": 10,
   "id": "21fa7a02",
   "metadata": {},
   "outputs": [
    {
     "name": "stdout",
     "output_type": "stream",
     "text": [
      "1295.4972 seconds used for training.\n",
      "21.59 minutes used for training.\n",
      "Peak reserved memory = 5.941 GB.\n",
      "Peak reserved memory for training = 3.453 GB.\n",
      "Peak reserved memory % of max memory = 99.066 %.\n",
      "Peak reserved memory for training % of max memory = 57.579 %.\n"
     ]
    }
   ],
   "source": [
    "#@title Show final memory and time stats\n",
    "used_memory = round(torch.cuda.max_memory_reserved() / 1024 / 1024 / 1024, 3)\n",
    "used_memory_for_lora = round(used_memory - start_gpu_memory, 3)\n",
    "used_percentage = round(used_memory         /max_memory*100, 3)\n",
    "lora_percentage = round(used_memory_for_lora/max_memory*100, 3)\n",
    "print(f\"{trainer_stats.metrics['train_runtime']} seconds used for training.\")\n",
    "print(f\"{round(trainer_stats.metrics['train_runtime']/60, 2)} minutes used for training.\")\n",
    "print(f\"Peak reserved memory = {used_memory} GB.\")\n",
    "print(f\"Peak reserved memory for training = {used_memory_for_lora} GB.\")\n",
    "print(f\"Peak reserved memory % of max memory = {used_percentage} %.\")\n",
    "print(f\"Peak reserved memory for training % of max memory = {lora_percentage} %.\")"
   ]
  },
  {
   "cell_type": "markdown",
   "id": "c04c51c7",
   "metadata": {},
   "source": [
    "#### สร้างกราฟ Accuracy / Loss จาก trainer.state.log_history"
   ]
  },
  {
   "cell_type": "markdown",
   "id": "5769ef35",
   "metadata": {},
   "source": [
    "บางเวอร์ชันของ TRL/Unsloth + VLM (เช่น Qwen2.5-VL) ถ้าเปิด prediction_loss_only=False แล้ว Trainer จะพยายาม “รวบรวม/แพด” ผลทำนายระหว่าง eval → ชนกับวัตถุที่ไม่ใช่ tensor (เช่น EmptyLogits) แล้วพังทันที => ทำให้ไม่มี Accuracy มาโชว์"
   ]
  },
  {
   "cell_type": "code",
   "execution_count": 11,
   "id": "c58bd4f3",
   "metadata": {},
   "outputs": [
    {
     "name": "stdout",
     "output_type": "stream",
     "text": [
      "Final metrics: {'train_runtime': 1295.4972, 'train_samples_per_second': 0.185, 'train_steps_per_second': 0.023, 'total_flos': 2174814776696832.0, 'train_loss': 0.4907341495156288, 'epoch': 0.056338028169014086}\n",
      "Final eval accuracy: None\n",
      "Final eval loss: None\n"
     ]
    }
   ],
   "source": [
    "print(\"Final metrics:\", trainer_stats.metrics)\n",
    "print(\"Final eval accuracy:\", trainer_stats.metrics.get(\"eval_accuracy\", None))\n",
    "print(\"Final eval loss:\", trainer_stats.metrics.get(\"eval_loss\", None))"
   ]
  },
  {
   "cell_type": "code",
   "execution_count": 12,
   "id": "de4fda81",
   "metadata": {},
   "outputs": [
    {
     "name": "stdout",
     "output_type": "stream",
     "text": [
      "Training loss: 0.4907341495156288\n",
      "All metrics: {'train_runtime': 1295.4972, 'train_samples_per_second': 0.185, 'train_steps_per_second': 0.023, 'total_flos': 2174814776696832.0, 'train_loss': 0.4907341495156288, 'epoch': 0.056338028169014086}\n",
      "Index(['loss', 'grad_norm', 'learning_rate', 'epoch', 'step', 'eval_loss',\n",
      "       'eval_runtime', 'eval_samples_per_second', 'eval_steps_per_second',\n",
      "       'train_runtime', 'train_samples_per_second', 'train_steps_per_second',\n",
      "       'total_flos', 'train_loss'],\n",
      "      dtype='object')\n"
     ]
    },
    {
     "data": {
      "text/html": [
       "<div>\n",
       "<style scoped>\n",
       "    .dataframe tbody tr th:only-of-type {\n",
       "        vertical-align: middle;\n",
       "    }\n",
       "\n",
       "    .dataframe tbody tr th {\n",
       "        vertical-align: top;\n",
       "    }\n",
       "\n",
       "    .dataframe thead th {\n",
       "        text-align: right;\n",
       "    }\n",
       "</style>\n",
       "<table border=\"1\" class=\"dataframe\">\n",
       "  <thead>\n",
       "    <tr style=\"text-align: right;\">\n",
       "      <th></th>\n",
       "      <th>loss</th>\n",
       "      <th>grad_norm</th>\n",
       "      <th>learning_rate</th>\n",
       "      <th>epoch</th>\n",
       "      <th>step</th>\n",
       "      <th>eval_loss</th>\n",
       "      <th>eval_runtime</th>\n",
       "      <th>eval_samples_per_second</th>\n",
       "      <th>eval_steps_per_second</th>\n",
       "      <th>train_runtime</th>\n",
       "      <th>train_samples_per_second</th>\n",
       "      <th>train_steps_per_second</th>\n",
       "      <th>total_flos</th>\n",
       "      <th>train_loss</th>\n",
       "    </tr>\n",
       "  </thead>\n",
       "  <tbody>\n",
       "    <tr>\n",
       "      <th>0</th>\n",
       "      <td>0.9274</td>\n",
       "      <td>1.654138</td>\n",
       "      <td>0.000000</td>\n",
       "      <td>0.001878</td>\n",
       "      <td>1</td>\n",
       "      <td>NaN</td>\n",
       "      <td>NaN</td>\n",
       "      <td>NaN</td>\n",
       "      <td>NaN</td>\n",
       "      <td>NaN</td>\n",
       "      <td>NaN</td>\n",
       "      <td>NaN</td>\n",
       "      <td>NaN</td>\n",
       "      <td>NaN</td>\n",
       "    </tr>\n",
       "    <tr>\n",
       "      <th>1</th>\n",
       "      <td>0.9366</td>\n",
       "      <td>1.725886</td>\n",
       "      <td>0.000040</td>\n",
       "      <td>0.003756</td>\n",
       "      <td>2</td>\n",
       "      <td>NaN</td>\n",
       "      <td>NaN</td>\n",
       "      <td>NaN</td>\n",
       "      <td>NaN</td>\n",
       "      <td>NaN</td>\n",
       "      <td>NaN</td>\n",
       "      <td>NaN</td>\n",
       "      <td>NaN</td>\n",
       "      <td>NaN</td>\n",
       "    </tr>\n",
       "    <tr>\n",
       "      <th>2</th>\n",
       "      <td>0.9023</td>\n",
       "      <td>1.621622</td>\n",
       "      <td>0.000080</td>\n",
       "      <td>0.005634</td>\n",
       "      <td>3</td>\n",
       "      <td>NaN</td>\n",
       "      <td>NaN</td>\n",
       "      <td>NaN</td>\n",
       "      <td>NaN</td>\n",
       "      <td>NaN</td>\n",
       "      <td>NaN</td>\n",
       "      <td>NaN</td>\n",
       "      <td>NaN</td>\n",
       "      <td>NaN</td>\n",
       "    </tr>\n",
       "    <tr>\n",
       "      <th>3</th>\n",
       "      <td>0.9239</td>\n",
       "      <td>1.556414</td>\n",
       "      <td>0.000120</td>\n",
       "      <td>0.007512</td>\n",
       "      <td>4</td>\n",
       "      <td>NaN</td>\n",
       "      <td>NaN</td>\n",
       "      <td>NaN</td>\n",
       "      <td>NaN</td>\n",
       "      <td>NaN</td>\n",
       "      <td>NaN</td>\n",
       "      <td>NaN</td>\n",
       "      <td>NaN</td>\n",
       "      <td>NaN</td>\n",
       "    </tr>\n",
       "    <tr>\n",
       "      <th>4</th>\n",
       "      <td>0.8227</td>\n",
       "      <td>1.224167</td>\n",
       "      <td>0.000160</td>\n",
       "      <td>0.009390</td>\n",
       "      <td>5</td>\n",
       "      <td>NaN</td>\n",
       "      <td>NaN</td>\n",
       "      <td>NaN</td>\n",
       "      <td>NaN</td>\n",
       "      <td>NaN</td>\n",
       "      <td>NaN</td>\n",
       "      <td>NaN</td>\n",
       "      <td>NaN</td>\n",
       "      <td>NaN</td>\n",
       "    </tr>\n",
       "    <tr>\n",
       "      <th>5</th>\n",
       "      <td>0.7902</td>\n",
       "      <td>1.245444</td>\n",
       "      <td>0.000200</td>\n",
       "      <td>0.011268</td>\n",
       "      <td>6</td>\n",
       "      <td>NaN</td>\n",
       "      <td>NaN</td>\n",
       "      <td>NaN</td>\n",
       "      <td>NaN</td>\n",
       "      <td>NaN</td>\n",
       "      <td>NaN</td>\n",
       "      <td>NaN</td>\n",
       "      <td>NaN</td>\n",
       "      <td>NaN</td>\n",
       "    </tr>\n",
       "    <tr>\n",
       "      <th>6</th>\n",
       "      <td>0.7037</td>\n",
       "      <td>1.105654</td>\n",
       "      <td>0.000192</td>\n",
       "      <td>0.013146</td>\n",
       "      <td>7</td>\n",
       "      <td>NaN</td>\n",
       "      <td>NaN</td>\n",
       "      <td>NaN</td>\n",
       "      <td>NaN</td>\n",
       "      <td>NaN</td>\n",
       "      <td>NaN</td>\n",
       "      <td>NaN</td>\n",
       "      <td>NaN</td>\n",
       "      <td>NaN</td>\n",
       "    </tr>\n",
       "    <tr>\n",
       "      <th>7</th>\n",
       "      <td>0.6341</td>\n",
       "      <td>1.091617</td>\n",
       "      <td>0.000184</td>\n",
       "      <td>0.015023</td>\n",
       "      <td>8</td>\n",
       "      <td>NaN</td>\n",
       "      <td>NaN</td>\n",
       "      <td>NaN</td>\n",
       "      <td>NaN</td>\n",
       "      <td>NaN</td>\n",
       "      <td>NaN</td>\n",
       "      <td>NaN</td>\n",
       "      <td>NaN</td>\n",
       "      <td>NaN</td>\n",
       "    </tr>\n",
       "    <tr>\n",
       "      <th>8</th>\n",
       "      <td>0.5896</td>\n",
       "      <td>1.108674</td>\n",
       "      <td>0.000176</td>\n",
       "      <td>0.016901</td>\n",
       "      <td>9</td>\n",
       "      <td>NaN</td>\n",
       "      <td>NaN</td>\n",
       "      <td>NaN</td>\n",
       "      <td>NaN</td>\n",
       "      <td>NaN</td>\n",
       "      <td>NaN</td>\n",
       "      <td>NaN</td>\n",
       "      <td>NaN</td>\n",
       "      <td>NaN</td>\n",
       "    </tr>\n",
       "    <tr>\n",
       "      <th>9</th>\n",
       "      <td>0.5606</td>\n",
       "      <td>0.999770</td>\n",
       "      <td>0.000168</td>\n",
       "      <td>0.018779</td>\n",
       "      <td>10</td>\n",
       "      <td>NaN</td>\n",
       "      <td>NaN</td>\n",
       "      <td>NaN</td>\n",
       "      <td>NaN</td>\n",
       "      <td>NaN</td>\n",
       "      <td>NaN</td>\n",
       "      <td>NaN</td>\n",
       "      <td>NaN</td>\n",
       "      <td>NaN</td>\n",
       "    </tr>\n",
       "    <tr>\n",
       "      <th>10</th>\n",
       "      <td>NaN</td>\n",
       "      <td>NaN</td>\n",
       "      <td>NaN</td>\n",
       "      <td>0.018779</td>\n",
       "      <td>10</td>\n",
       "      <td>2.139121</td>\n",
       "      <td>332.5501</td>\n",
       "      <td>2.745</td>\n",
       "      <td>0.689</td>\n",
       "      <td>NaN</td>\n",
       "      <td>NaN</td>\n",
       "      <td>NaN</td>\n",
       "      <td>NaN</td>\n",
       "      <td>NaN</td>\n",
       "    </tr>\n",
       "    <tr>\n",
       "      <th>11</th>\n",
       "      <td>0.5536</td>\n",
       "      <td>1.123334</td>\n",
       "      <td>0.000160</td>\n",
       "      <td>0.020657</td>\n",
       "      <td>11</td>\n",
       "      <td>NaN</td>\n",
       "      <td>NaN</td>\n",
       "      <td>NaN</td>\n",
       "      <td>NaN</td>\n",
       "      <td>NaN</td>\n",
       "      <td>NaN</td>\n",
       "      <td>NaN</td>\n",
       "      <td>NaN</td>\n",
       "      <td>NaN</td>\n",
       "    </tr>\n",
       "    <tr>\n",
       "      <th>12</th>\n",
       "      <td>0.4924</td>\n",
       "      <td>1.296742</td>\n",
       "      <td>0.000152</td>\n",
       "      <td>0.022535</td>\n",
       "      <td>12</td>\n",
       "      <td>NaN</td>\n",
       "      <td>NaN</td>\n",
       "      <td>NaN</td>\n",
       "      <td>NaN</td>\n",
       "      <td>NaN</td>\n",
       "      <td>NaN</td>\n",
       "      <td>NaN</td>\n",
       "      <td>NaN</td>\n",
       "      <td>NaN</td>\n",
       "    </tr>\n",
       "    <tr>\n",
       "      <th>13</th>\n",
       "      <td>0.4823</td>\n",
       "      <td>1.227216</td>\n",
       "      <td>0.000144</td>\n",
       "      <td>0.024413</td>\n",
       "      <td>13</td>\n",
       "      <td>NaN</td>\n",
       "      <td>NaN</td>\n",
       "      <td>NaN</td>\n",
       "      <td>NaN</td>\n",
       "      <td>NaN</td>\n",
       "      <td>NaN</td>\n",
       "      <td>NaN</td>\n",
       "      <td>NaN</td>\n",
       "      <td>NaN</td>\n",
       "    </tr>\n",
       "    <tr>\n",
       "      <th>14</th>\n",
       "      <td>0.4374</td>\n",
       "      <td>1.409464</td>\n",
       "      <td>0.000136</td>\n",
       "      <td>0.026291</td>\n",
       "      <td>14</td>\n",
       "      <td>NaN</td>\n",
       "      <td>NaN</td>\n",
       "      <td>NaN</td>\n",
       "      <td>NaN</td>\n",
       "      <td>NaN</td>\n",
       "      <td>NaN</td>\n",
       "      <td>NaN</td>\n",
       "      <td>NaN</td>\n",
       "      <td>NaN</td>\n",
       "    </tr>\n",
       "    <tr>\n",
       "      <th>15</th>\n",
       "      <td>0.4393</td>\n",
       "      <td>1.293505</td>\n",
       "      <td>0.000128</td>\n",
       "      <td>0.028169</td>\n",
       "      <td>15</td>\n",
       "      <td>NaN</td>\n",
       "      <td>NaN</td>\n",
       "      <td>NaN</td>\n",
       "      <td>NaN</td>\n",
       "      <td>NaN</td>\n",
       "      <td>NaN</td>\n",
       "      <td>NaN</td>\n",
       "      <td>NaN</td>\n",
       "      <td>NaN</td>\n",
       "    </tr>\n",
       "    <tr>\n",
       "      <th>16</th>\n",
       "      <td>0.4090</td>\n",
       "      <td>1.180521</td>\n",
       "      <td>0.000120</td>\n",
       "      <td>0.030047</td>\n",
       "      <td>16</td>\n",
       "      <td>NaN</td>\n",
       "      <td>NaN</td>\n",
       "      <td>NaN</td>\n",
       "      <td>NaN</td>\n",
       "      <td>NaN</td>\n",
       "      <td>NaN</td>\n",
       "      <td>NaN</td>\n",
       "      <td>NaN</td>\n",
       "      <td>NaN</td>\n",
       "    </tr>\n",
       "    <tr>\n",
       "      <th>17</th>\n",
       "      <td>0.3461</td>\n",
       "      <td>1.067582</td>\n",
       "      <td>0.000112</td>\n",
       "      <td>0.031925</td>\n",
       "      <td>17</td>\n",
       "      <td>NaN</td>\n",
       "      <td>NaN</td>\n",
       "      <td>NaN</td>\n",
       "      <td>NaN</td>\n",
       "      <td>NaN</td>\n",
       "      <td>NaN</td>\n",
       "      <td>NaN</td>\n",
       "      <td>NaN</td>\n",
       "      <td>NaN</td>\n",
       "    </tr>\n",
       "    <tr>\n",
       "      <th>18</th>\n",
       "      <td>0.3269</td>\n",
       "      <td>0.805513</td>\n",
       "      <td>0.000104</td>\n",
       "      <td>0.033803</td>\n",
       "      <td>18</td>\n",
       "      <td>NaN</td>\n",
       "      <td>NaN</td>\n",
       "      <td>NaN</td>\n",
       "      <td>NaN</td>\n",
       "      <td>NaN</td>\n",
       "      <td>NaN</td>\n",
       "      <td>NaN</td>\n",
       "      <td>NaN</td>\n",
       "      <td>NaN</td>\n",
       "    </tr>\n",
       "    <tr>\n",
       "      <th>19</th>\n",
       "      <td>0.3566</td>\n",
       "      <td>0.922161</td>\n",
       "      <td>0.000096</td>\n",
       "      <td>0.035681</td>\n",
       "      <td>19</td>\n",
       "      <td>NaN</td>\n",
       "      <td>NaN</td>\n",
       "      <td>NaN</td>\n",
       "      <td>NaN</td>\n",
       "      <td>NaN</td>\n",
       "      <td>NaN</td>\n",
       "      <td>NaN</td>\n",
       "      <td>NaN</td>\n",
       "      <td>NaN</td>\n",
       "    </tr>\n",
       "    <tr>\n",
       "      <th>20</th>\n",
       "      <td>0.3042</td>\n",
       "      <td>1.255090</td>\n",
       "      <td>0.000088</td>\n",
       "      <td>0.037559</td>\n",
       "      <td>20</td>\n",
       "      <td>NaN</td>\n",
       "      <td>NaN</td>\n",
       "      <td>NaN</td>\n",
       "      <td>NaN</td>\n",
       "      <td>NaN</td>\n",
       "      <td>NaN</td>\n",
       "      <td>NaN</td>\n",
       "      <td>NaN</td>\n",
       "      <td>NaN</td>\n",
       "    </tr>\n",
       "    <tr>\n",
       "      <th>21</th>\n",
       "      <td>NaN</td>\n",
       "      <td>NaN</td>\n",
       "      <td>NaN</td>\n",
       "      <td>0.037559</td>\n",
       "      <td>20</td>\n",
       "      <td>1.177546</td>\n",
       "      <td>358.7138</td>\n",
       "      <td>2.545</td>\n",
       "      <td>0.638</td>\n",
       "      <td>NaN</td>\n",
       "      <td>NaN</td>\n",
       "      <td>NaN</td>\n",
       "      <td>NaN</td>\n",
       "      <td>NaN</td>\n",
       "    </tr>\n",
       "    <tr>\n",
       "      <th>22</th>\n",
       "      <td>0.3333</td>\n",
       "      <td>0.573492</td>\n",
       "      <td>0.000080</td>\n",
       "      <td>0.039437</td>\n",
       "      <td>21</td>\n",
       "      <td>NaN</td>\n",
       "      <td>NaN</td>\n",
       "      <td>NaN</td>\n",
       "      <td>NaN</td>\n",
       "      <td>NaN</td>\n",
       "      <td>NaN</td>\n",
       "      <td>NaN</td>\n",
       "      <td>NaN</td>\n",
       "      <td>NaN</td>\n",
       "    </tr>\n",
       "    <tr>\n",
       "      <th>23</th>\n",
       "      <td>0.3088</td>\n",
       "      <td>0.511845</td>\n",
       "      <td>0.000072</td>\n",
       "      <td>0.041315</td>\n",
       "      <td>22</td>\n",
       "      <td>NaN</td>\n",
       "      <td>NaN</td>\n",
       "      <td>NaN</td>\n",
       "      <td>NaN</td>\n",
       "      <td>NaN</td>\n",
       "      <td>NaN</td>\n",
       "      <td>NaN</td>\n",
       "      <td>NaN</td>\n",
       "      <td>NaN</td>\n",
       "    </tr>\n",
       "    <tr>\n",
       "      <th>24</th>\n",
       "      <td>0.2828</td>\n",
       "      <td>0.503517</td>\n",
       "      <td>0.000064</td>\n",
       "      <td>0.043192</td>\n",
       "      <td>23</td>\n",
       "      <td>NaN</td>\n",
       "      <td>NaN</td>\n",
       "      <td>NaN</td>\n",
       "      <td>NaN</td>\n",
       "      <td>NaN</td>\n",
       "      <td>NaN</td>\n",
       "      <td>NaN</td>\n",
       "      <td>NaN</td>\n",
       "      <td>NaN</td>\n",
       "    </tr>\n",
       "    <tr>\n",
       "      <th>25</th>\n",
       "      <td>0.2720</td>\n",
       "      <td>0.540254</td>\n",
       "      <td>0.000056</td>\n",
       "      <td>0.045070</td>\n",
       "      <td>24</td>\n",
       "      <td>NaN</td>\n",
       "      <td>NaN</td>\n",
       "      <td>NaN</td>\n",
       "      <td>NaN</td>\n",
       "      <td>NaN</td>\n",
       "      <td>NaN</td>\n",
       "      <td>NaN</td>\n",
       "      <td>NaN</td>\n",
       "      <td>NaN</td>\n",
       "    </tr>\n",
       "    <tr>\n",
       "      <th>26</th>\n",
       "      <td>0.2918</td>\n",
       "      <td>0.517806</td>\n",
       "      <td>0.000048</td>\n",
       "      <td>0.046948</td>\n",
       "      <td>25</td>\n",
       "      <td>NaN</td>\n",
       "      <td>NaN</td>\n",
       "      <td>NaN</td>\n",
       "      <td>NaN</td>\n",
       "      <td>NaN</td>\n",
       "      <td>NaN</td>\n",
       "      <td>NaN</td>\n",
       "      <td>NaN</td>\n",
       "      <td>NaN</td>\n",
       "    </tr>\n",
       "    <tr>\n",
       "      <th>27</th>\n",
       "      <td>0.2672</td>\n",
       "      <td>0.467793</td>\n",
       "      <td>0.000040</td>\n",
       "      <td>0.048826</td>\n",
       "      <td>26</td>\n",
       "      <td>NaN</td>\n",
       "      <td>NaN</td>\n",
       "      <td>NaN</td>\n",
       "      <td>NaN</td>\n",
       "      <td>NaN</td>\n",
       "      <td>NaN</td>\n",
       "      <td>NaN</td>\n",
       "      <td>NaN</td>\n",
       "      <td>NaN</td>\n",
       "    </tr>\n",
       "    <tr>\n",
       "      <th>28</th>\n",
       "      <td>0.2704</td>\n",
       "      <td>0.504127</td>\n",
       "      <td>0.000032</td>\n",
       "      <td>0.050704</td>\n",
       "      <td>27</td>\n",
       "      <td>NaN</td>\n",
       "      <td>NaN</td>\n",
       "      <td>NaN</td>\n",
       "      <td>NaN</td>\n",
       "      <td>NaN</td>\n",
       "      <td>NaN</td>\n",
       "      <td>NaN</td>\n",
       "      <td>NaN</td>\n",
       "      <td>NaN</td>\n",
       "    </tr>\n",
       "    <tr>\n",
       "      <th>29</th>\n",
       "      <td>0.2591</td>\n",
       "      <td>0.506595</td>\n",
       "      <td>0.000024</td>\n",
       "      <td>0.052582</td>\n",
       "      <td>28</td>\n",
       "      <td>NaN</td>\n",
       "      <td>NaN</td>\n",
       "      <td>NaN</td>\n",
       "      <td>NaN</td>\n",
       "      <td>NaN</td>\n",
       "      <td>NaN</td>\n",
       "      <td>NaN</td>\n",
       "      <td>NaN</td>\n",
       "      <td>NaN</td>\n",
       "    </tr>\n",
       "    <tr>\n",
       "      <th>30</th>\n",
       "      <td>0.2623</td>\n",
       "      <td>0.504166</td>\n",
       "      <td>0.000016</td>\n",
       "      <td>0.054460</td>\n",
       "      <td>29</td>\n",
       "      <td>NaN</td>\n",
       "      <td>NaN</td>\n",
       "      <td>NaN</td>\n",
       "      <td>NaN</td>\n",
       "      <td>NaN</td>\n",
       "      <td>NaN</td>\n",
       "      <td>NaN</td>\n",
       "      <td>NaN</td>\n",
       "      <td>NaN</td>\n",
       "    </tr>\n",
       "    <tr>\n",
       "      <th>31</th>\n",
       "      <td>0.2358</td>\n",
       "      <td>0.466043</td>\n",
       "      <td>0.000008</td>\n",
       "      <td>0.056338</td>\n",
       "      <td>30</td>\n",
       "      <td>NaN</td>\n",
       "      <td>NaN</td>\n",
       "      <td>NaN</td>\n",
       "      <td>NaN</td>\n",
       "      <td>NaN</td>\n",
       "      <td>NaN</td>\n",
       "      <td>NaN</td>\n",
       "      <td>NaN</td>\n",
       "      <td>NaN</td>\n",
       "    </tr>\n",
       "    <tr>\n",
       "      <th>32</th>\n",
       "      <td>NaN</td>\n",
       "      <td>NaN</td>\n",
       "      <td>NaN</td>\n",
       "      <td>0.056338</td>\n",
       "      <td>30</td>\n",
       "      <td>1.019091</td>\n",
       "      <td>377.6732</td>\n",
       "      <td>2.417</td>\n",
       "      <td>0.606</td>\n",
       "      <td>NaN</td>\n",
       "      <td>NaN</td>\n",
       "      <td>NaN</td>\n",
       "      <td>NaN</td>\n",
       "      <td>NaN</td>\n",
       "    </tr>\n",
       "    <tr>\n",
       "      <th>33</th>\n",
       "      <td>NaN</td>\n",
       "      <td>NaN</td>\n",
       "      <td>NaN</td>\n",
       "      <td>0.056338</td>\n",
       "      <td>30</td>\n",
       "      <td>NaN</td>\n",
       "      <td>NaN</td>\n",
       "      <td>NaN</td>\n",
       "      <td>NaN</td>\n",
       "      <td>1295.4972</td>\n",
       "      <td>0.185</td>\n",
       "      <td>0.023</td>\n",
       "      <td>2.174815e+15</td>\n",
       "      <td>0.490734</td>\n",
       "    </tr>\n",
       "  </tbody>\n",
       "</table>\n",
       "</div>"
      ],
      "text/plain": [
       "      loss  grad_norm  learning_rate     epoch  step  eval_loss  eval_runtime  \\\n",
       "0   0.9274   1.654138       0.000000  0.001878     1        NaN           NaN   \n",
       "1   0.9366   1.725886       0.000040  0.003756     2        NaN           NaN   \n",
       "2   0.9023   1.621622       0.000080  0.005634     3        NaN           NaN   \n",
       "3   0.9239   1.556414       0.000120  0.007512     4        NaN           NaN   \n",
       "4   0.8227   1.224167       0.000160  0.009390     5        NaN           NaN   \n",
       "5   0.7902   1.245444       0.000200  0.011268     6        NaN           NaN   \n",
       "6   0.7037   1.105654       0.000192  0.013146     7        NaN           NaN   \n",
       "7   0.6341   1.091617       0.000184  0.015023     8        NaN           NaN   \n",
       "8   0.5896   1.108674       0.000176  0.016901     9        NaN           NaN   \n",
       "9   0.5606   0.999770       0.000168  0.018779    10        NaN           NaN   \n",
       "10     NaN        NaN            NaN  0.018779    10   2.139121      332.5501   \n",
       "11  0.5536   1.123334       0.000160  0.020657    11        NaN           NaN   \n",
       "12  0.4924   1.296742       0.000152  0.022535    12        NaN           NaN   \n",
       "13  0.4823   1.227216       0.000144  0.024413    13        NaN           NaN   \n",
       "14  0.4374   1.409464       0.000136  0.026291    14        NaN           NaN   \n",
       "15  0.4393   1.293505       0.000128  0.028169    15        NaN           NaN   \n",
       "16  0.4090   1.180521       0.000120  0.030047    16        NaN           NaN   \n",
       "17  0.3461   1.067582       0.000112  0.031925    17        NaN           NaN   \n",
       "18  0.3269   0.805513       0.000104  0.033803    18        NaN           NaN   \n",
       "19  0.3566   0.922161       0.000096  0.035681    19        NaN           NaN   \n",
       "20  0.3042   1.255090       0.000088  0.037559    20        NaN           NaN   \n",
       "21     NaN        NaN            NaN  0.037559    20   1.177546      358.7138   \n",
       "22  0.3333   0.573492       0.000080  0.039437    21        NaN           NaN   \n",
       "23  0.3088   0.511845       0.000072  0.041315    22        NaN           NaN   \n",
       "24  0.2828   0.503517       0.000064  0.043192    23        NaN           NaN   \n",
       "25  0.2720   0.540254       0.000056  0.045070    24        NaN           NaN   \n",
       "26  0.2918   0.517806       0.000048  0.046948    25        NaN           NaN   \n",
       "27  0.2672   0.467793       0.000040  0.048826    26        NaN           NaN   \n",
       "28  0.2704   0.504127       0.000032  0.050704    27        NaN           NaN   \n",
       "29  0.2591   0.506595       0.000024  0.052582    28        NaN           NaN   \n",
       "30  0.2623   0.504166       0.000016  0.054460    29        NaN           NaN   \n",
       "31  0.2358   0.466043       0.000008  0.056338    30        NaN           NaN   \n",
       "32     NaN        NaN            NaN  0.056338    30   1.019091      377.6732   \n",
       "33     NaN        NaN            NaN  0.056338    30        NaN           NaN   \n",
       "\n",
       "    eval_samples_per_second  eval_steps_per_second  train_runtime  \\\n",
       "0                       NaN                    NaN            NaN   \n",
       "1                       NaN                    NaN            NaN   \n",
       "2                       NaN                    NaN            NaN   \n",
       "3                       NaN                    NaN            NaN   \n",
       "4                       NaN                    NaN            NaN   \n",
       "5                       NaN                    NaN            NaN   \n",
       "6                       NaN                    NaN            NaN   \n",
       "7                       NaN                    NaN            NaN   \n",
       "8                       NaN                    NaN            NaN   \n",
       "9                       NaN                    NaN            NaN   \n",
       "10                    2.745                  0.689            NaN   \n",
       "11                      NaN                    NaN            NaN   \n",
       "12                      NaN                    NaN            NaN   \n",
       "13                      NaN                    NaN            NaN   \n",
       "14                      NaN                    NaN            NaN   \n",
       "15                      NaN                    NaN            NaN   \n",
       "16                      NaN                    NaN            NaN   \n",
       "17                      NaN                    NaN            NaN   \n",
       "18                      NaN                    NaN            NaN   \n",
       "19                      NaN                    NaN            NaN   \n",
       "20                      NaN                    NaN            NaN   \n",
       "21                    2.545                  0.638            NaN   \n",
       "22                      NaN                    NaN            NaN   \n",
       "23                      NaN                    NaN            NaN   \n",
       "24                      NaN                    NaN            NaN   \n",
       "25                      NaN                    NaN            NaN   \n",
       "26                      NaN                    NaN            NaN   \n",
       "27                      NaN                    NaN            NaN   \n",
       "28                      NaN                    NaN            NaN   \n",
       "29                      NaN                    NaN            NaN   \n",
       "30                      NaN                    NaN            NaN   \n",
       "31                      NaN                    NaN            NaN   \n",
       "32                    2.417                  0.606            NaN   \n",
       "33                      NaN                    NaN      1295.4972   \n",
       "\n",
       "    train_samples_per_second  train_steps_per_second    total_flos  train_loss  \n",
       "0                        NaN                     NaN           NaN         NaN  \n",
       "1                        NaN                     NaN           NaN         NaN  \n",
       "2                        NaN                     NaN           NaN         NaN  \n",
       "3                        NaN                     NaN           NaN         NaN  \n",
       "4                        NaN                     NaN           NaN         NaN  \n",
       "5                        NaN                     NaN           NaN         NaN  \n",
       "6                        NaN                     NaN           NaN         NaN  \n",
       "7                        NaN                     NaN           NaN         NaN  \n",
       "8                        NaN                     NaN           NaN         NaN  \n",
       "9                        NaN                     NaN           NaN         NaN  \n",
       "10                       NaN                     NaN           NaN         NaN  \n",
       "11                       NaN                     NaN           NaN         NaN  \n",
       "12                       NaN                     NaN           NaN         NaN  \n",
       "13                       NaN                     NaN           NaN         NaN  \n",
       "14                       NaN                     NaN           NaN         NaN  \n",
       "15                       NaN                     NaN           NaN         NaN  \n",
       "16                       NaN                     NaN           NaN         NaN  \n",
       "17                       NaN                     NaN           NaN         NaN  \n",
       "18                       NaN                     NaN           NaN         NaN  \n",
       "19                       NaN                     NaN           NaN         NaN  \n",
       "20                       NaN                     NaN           NaN         NaN  \n",
       "21                       NaN                     NaN           NaN         NaN  \n",
       "22                       NaN                     NaN           NaN         NaN  \n",
       "23                       NaN                     NaN           NaN         NaN  \n",
       "24                       NaN                     NaN           NaN         NaN  \n",
       "25                       NaN                     NaN           NaN         NaN  \n",
       "26                       NaN                     NaN           NaN         NaN  \n",
       "27                       NaN                     NaN           NaN         NaN  \n",
       "28                       NaN                     NaN           NaN         NaN  \n",
       "29                       NaN                     NaN           NaN         NaN  \n",
       "30                       NaN                     NaN           NaN         NaN  \n",
       "31                       NaN                     NaN           NaN         NaN  \n",
       "32                       NaN                     NaN           NaN         NaN  \n",
       "33                     0.185                   0.023  2.174815e+15    0.490734  "
      ]
     },
     "metadata": {},
     "output_type": "display_data"
    }
   ],
   "source": [
    "# ดูค่ารวม\n",
    "print(\"Training loss:\", trainer_stats.training_loss)\n",
    "print(\"All metrics:\", trainer_stats.metrics)\n",
    "\n",
    "# แปลง log เป็น DataFrame\n",
    "import pandas as pd\n",
    "df = pd.DataFrame(trainer.state.log_history)\n",
    "\n",
    "# ดูคอลัมน์ที่มี\n",
    "print(df.columns)\n",
    "display(df)"
   ]
  },
  {
   "cell_type": "code",
   "execution_count": 13,
   "id": "df0fe152",
   "metadata": {},
   "outputs": [
    {
     "data": {
      "image/png": "[encoded data removed]",
      "text/plain": [
       "<Figure size 600x400 with 1 Axes>"
      ]
     },
     "metadata": {},
     "output_type": "display_data"
    }
   ],
   "source": [
    "import matplotlib.pyplot as plt\n",
    "import pandas as pd\n",
    "\n",
    "# แปลง log_history เป็น DataFrame เพื่อจัดการง่าย\n",
    "df = pd.DataFrame(trainer.state.log_history)\n",
    "\n",
    "# ===== กราฟ Loss =====\n",
    "plt.figure(figsize=(6,4))\n",
    "plt.plot(df[\"step\"], df[\"loss\"], label=\"Train Loss\", marker=\"o\")\n",
    "if \"eval_loss\" in df.columns:\n",
    "    plt.plot(df[\"step\"], df[\"eval_loss\"], label=\"Eval Loss\", marker=\"x\")\n",
    "plt.xlabel(\"Step\")\n",
    "plt.ylabel(\"Loss\")\n",
    "plt.title(\"Training / Evaluation Loss\")\n",
    "plt.legend()\n",
    "plt.grid(True)\n",
    "plt.show()\n",
    "\n",
    "# ===== กราฟ Accuracy =====\n",
    "if \"eval_accuracy\" in df.columns or \"accuracy\" in df.columns:\n",
    "    plt.figure(figsize=(6,4))\n",
    "    acc_col = \"eval_accuracy\" if \"eval_accuracy\" in df.columns else \"accuracy\"\n",
    "    plt.plot(df[\"step\"], df[acc_col], label=\"Eval Accuracy\", color=\"green\", marker=\"x\")\n",
    "    plt.xlabel(\"Step\")\n",
    "    plt.ylabel(\"Accuracy\")\n",
    "    plt.title(\"Evaluation Accuracy over Steps\")\n",
    "    plt.legend()\n",
    "    plt.grid(True)\n",
    "    plt.show()"
   ]
  },
  {
   "cell_type": "markdown",
   "id": "c58f8656",
   "metadata": {},
   "source": [
    "#### Test 1\n",
    "\n",
    "- ใช้ trainer.predict(...) กับ blind/val dataset แล้วคำนวณ metric เอง"
   ]
  },
  {
   "cell_type": "code",
   "execution_count": null,
   "id": "d67cc03f",
   "metadata": {},
   "outputs": [],
   "source": [
    "from transformers.generation import GenerationConfig\n",
    "gc = GenerationConfig.from_model_config(trainer.model.config)\n",
    "gc.return_dict_in_generate = False\n",
    "gc.output_scores = False\n",
    "trainer.model.generation_config = gc"
   ]
  },
  {
   "cell_type": "code",
   "execution_count": 18,
   "id": "e933a117",
   "metadata": {},
   "outputs": [
    {
     "data": {
      "text/html": [],
      "text/plain": [
       "<IPython.core.display.HTML object>"
      ]
     },
     "metadata": {},
     "output_type": "display_data"
    }
   ],
   "source": [
    "import re, numpy as np\n",
    "from evaluate import load\n",
    "\n",
    "# ----- ตั้งค่า/คงไว้ -----\n",
    "ALLOWED_CLASSES = {\n",
    "    \"Chest_Changes\",\"Degenerative_Infectious\",\"Higher_Density\",\n",
    "    \"Inflammatory_Pneumonia\",\"Lower_Density\",\"Mediastinal_Changes\",\n",
    "    \"Normal\",\"Obstructive\",\n",
    "}\n",
    "bleu_metric = load(\"bleu\")\n",
    "\n",
    "def extract_class(text: str):\n",
    "    \"\"\"ดึงชื่อคลาสแบบไม่สนพิมพ์เล็ก-ใหญ่ หากพบคืนชื่อมาตรฐาน ตาม ALLOWED_CLASSES\"\"\"\n",
    "    if not isinstance(text, str):\n",
    "        return None\n",
    "    for cls in ALLOWED_CLASSES:\n",
    "        if re.search(rf\"\\b{re.escape(cls)}\\b\", text, flags=re.IGNORECASE):\n",
    "            return cls\n",
    "    return None\n",
    "\n",
    "# ===== 1) รัน predict บน blind/val =====\n",
    "pred_out = trainer.predict(converted_dataset_test)   # ไม่มี labels ก็รันได้"
   ]
  },
  {
   "cell_type": "code",
   "execution_count": 19,
   "id": "14f921da",
   "metadata": {},
   "outputs": [
    {
     "name": "stdout",
     "output_type": "stream",
     "text": [
      "pred_out type: <class 'transformers.trainer_utils.PredictionOutput'>\n",
      "pred_out.predictions: <class 'NoneType'>\n",
      "Example: None!\n",
      "Type of pred_out.predictions: <class 'NoneType'>\n",
      "Keys or shape: None\n"
     ]
    },
    {
     "ename": "TypeError",
     "evalue": "'NoneType' object is not iterable",
     "output_type": "error",
     "traceback": [
      "\u001b[1;31m---------------------------------------------------------------------------\u001b[0m",
      "\u001b[1;31mTypeError\u001b[0m                                 Traceback (most recent call last)",
      "Cell \u001b[1;32mIn[19], line 21\u001b[0m\n\u001b[0;32m     17\u001b[0m     pred_ids \u001b[38;5;241m=\u001b[39m pred_out\u001b[38;5;241m.\u001b[39mpredictions  \u001b[38;5;66;03m# ปกติ (array/tensor)\u001b[39;00m\n\u001b[0;32m     19\u001b[0m \u001b[38;5;66;03m# ===== 2) decode prediction เป็นข้อความ =====\u001b[39;00m\n\u001b[0;32m     20\u001b[0m \u001b[38;5;66;03m# pred_ids = pred_out.predictions                    # (num_samples, seq_len)\u001b[39;00m\n\u001b[1;32m---> 21\u001b[0m pred_texts \u001b[38;5;241m=\u001b[39m \u001b[43mtokenizer\u001b[49m\u001b[38;5;241;43m.\u001b[39;49m\u001b[43mbatch_decode\u001b[49m\u001b[43m(\u001b[49m\u001b[43mpred_ids\u001b[49m\u001b[43m,\u001b[49m\u001b[43m \u001b[49m\u001b[43mskip_special_tokens\u001b[49m\u001b[38;5;241;43m=\u001b[39;49m\u001b[38;5;28;43;01mTrue\u001b[39;49;00m\u001b[43m)\u001b[49m\n\u001b[0;32m     23\u001b[0m \u001b[38;5;66;03m# ===== 3) (ถ้ามี labels) คำนวณ Accuracy + BLEU =====\u001b[39;00m\n\u001b[0;32m     24\u001b[0m metrics \u001b[38;5;241m=\u001b[39m {}\n",
      "File \u001b[1;32mc:\\Users\\namth\\anaconda3\\envs\\lung_lora\\lib\\site-packages\\transformers\\processing_utils.py:1426\u001b[0m, in \u001b[0;36mProcessorMixin.batch_decode\u001b[1;34m(self, *args, **kwargs)\u001b[0m\n\u001b[0;32m   1424\u001b[0m \u001b[38;5;28;01mif\u001b[39;00m \u001b[38;5;129;01mnot\u001b[39;00m \u001b[38;5;28mhasattr\u001b[39m(\u001b[38;5;28mself\u001b[39m, \u001b[38;5;124m\"\u001b[39m\u001b[38;5;124mtokenizer\u001b[39m\u001b[38;5;124m\"\u001b[39m):\n\u001b[0;32m   1425\u001b[0m     \u001b[38;5;28;01mraise\u001b[39;00m \u001b[38;5;167;01mValueError\u001b[39;00m(\u001b[38;5;124mf\u001b[39m\u001b[38;5;124m\"\u001b[39m\u001b[38;5;124mCannot batch decode text: \u001b[39m\u001b[38;5;132;01m{\u001b[39;00m\u001b[38;5;28mself\u001b[39m\u001b[38;5;241m.\u001b[39m\u001b[38;5;18m__class__\u001b[39m\u001b[38;5;241m.\u001b[39m\u001b[38;5;18m__name__\u001b[39m\u001b[38;5;132;01m}\u001b[39;00m\u001b[38;5;124m has no tokenizer.\u001b[39m\u001b[38;5;124m\"\u001b[39m)\n\u001b[1;32m-> 1426\u001b[0m \u001b[38;5;28;01mreturn\u001b[39;00m \u001b[38;5;28mself\u001b[39m\u001b[38;5;241m.\u001b[39mtokenizer\u001b[38;5;241m.\u001b[39mbatch_decode(\u001b[38;5;241m*\u001b[39margs, \u001b[38;5;241m*\u001b[39m\u001b[38;5;241m*\u001b[39mkwargs)\n",
      "File \u001b[1;32mc:\\Users\\namth\\anaconda3\\envs\\lung_lora\\lib\\site-packages\\transformers\\tokenization_utils_base.py:3857\u001b[0m, in \u001b[0;36mPreTrainedTokenizerBase.batch_decode\u001b[1;34m(self, sequences, skip_special_tokens, clean_up_tokenization_spaces, **kwargs)\u001b[0m\n\u001b[0;32m   3833\u001b[0m \u001b[38;5;28;01mdef\u001b[39;00m\u001b[38;5;250m \u001b[39m\u001b[38;5;21mbatch_decode\u001b[39m(\n\u001b[0;32m   3834\u001b[0m     \u001b[38;5;28mself\u001b[39m,\n\u001b[0;32m   3835\u001b[0m     sequences: Union[\u001b[38;5;28mlist\u001b[39m[\u001b[38;5;28mint\u001b[39m], \u001b[38;5;28mlist\u001b[39m[\u001b[38;5;28mlist\u001b[39m[\u001b[38;5;28mint\u001b[39m]], \u001b[38;5;124m\"\u001b[39m\u001b[38;5;124mnp.ndarray\u001b[39m\u001b[38;5;124m\"\u001b[39m, \u001b[38;5;124m\"\u001b[39m\u001b[38;5;124mtorch.Tensor\u001b[39m\u001b[38;5;124m\"\u001b[39m, \u001b[38;5;124m\"\u001b[39m\u001b[38;5;124mtf.Tensor\u001b[39m\u001b[38;5;124m\"\u001b[39m],\n\u001b[1;32m   (...)\u001b[0m\n\u001b[0;32m   3838\u001b[0m     \u001b[38;5;241m*\u001b[39m\u001b[38;5;241m*\u001b[39mkwargs,\n\u001b[0;32m   3839\u001b[0m ) \u001b[38;5;241m-\u001b[39m\u001b[38;5;241m>\u001b[39m \u001b[38;5;28mlist\u001b[39m[\u001b[38;5;28mstr\u001b[39m]:\n\u001b[0;32m   3840\u001b[0m \u001b[38;5;250m    \u001b[39m\u001b[38;5;124;03m\"\"\"\u001b[39;00m\n\u001b[0;32m   3841\u001b[0m \u001b[38;5;124;03m    Convert a list of lists of token ids into a list of strings by calling decode.\u001b[39;00m\n\u001b[0;32m   3842\u001b[0m \n\u001b[1;32m   (...)\u001b[0m\n\u001b[0;32m   3855\u001b[0m \u001b[38;5;124;03m        `list[str]`: The list of decoded sentences.\u001b[39;00m\n\u001b[0;32m   3856\u001b[0m \u001b[38;5;124;03m    \"\"\"\u001b[39;00m\n\u001b[1;32m-> 3857\u001b[0m     \u001b[38;5;28;01mreturn\u001b[39;00m [\n\u001b[0;32m   3858\u001b[0m         \u001b[38;5;28mself\u001b[39m\u001b[38;5;241m.\u001b[39mdecode(\n\u001b[0;32m   3859\u001b[0m             seq,\n\u001b[0;32m   3860\u001b[0m             skip_special_tokens\u001b[38;5;241m=\u001b[39mskip_special_tokens,\n\u001b[0;32m   3861\u001b[0m             clean_up_tokenization_spaces\u001b[38;5;241m=\u001b[39mclean_up_tokenization_spaces,\n\u001b[0;32m   3862\u001b[0m             \u001b[38;5;241m*\u001b[39m\u001b[38;5;241m*\u001b[39mkwargs,\n\u001b[0;32m   3863\u001b[0m         )\n\u001b[0;32m   3864\u001b[0m         \u001b[38;5;28;01mfor\u001b[39;00m seq \u001b[38;5;129;01min\u001b[39;00m sequences\n\u001b[0;32m   3865\u001b[0m     ]\n",
      "\u001b[1;31mTypeError\u001b[0m: 'NoneType' object is not iterable"
     ]
    }
   ],
   "source": [
    "# Debug\n",
    "print(\"pred_out type:\", type(pred_out))\n",
    "print(\"pred_out.predictions:\", type(pred_out.predictions))\n",
    "print(\"Example:\", pred_out.predictions[:1] if pred_out.predictions is not None else \"None!\")\n",
    "\n",
    "# Debug structure ดูก่อน\n",
    "print(\"Type of pred_out.predictions:\", type(pred_out.predictions))\n",
    "print(\"Keys or shape:\", getattr(pred_out.predictions, \"keys\", lambda: None)())\n",
    "\n",
    "# ✅ กรณีเป็น dict\n",
    "if isinstance(pred_out.predictions, dict) and \"sequences\" in pred_out.predictions:\n",
    "    pred_ids = pred_out.predictions[\"sequences\"]\n",
    "# ✅ กรณีเป็น tuple/list\n",
    "elif isinstance(pred_out.predictions, (list, tuple)) and len(pred_out.predictions) > 0:\n",
    "    pred_ids = pred_out.predictions[0]\n",
    "else:\n",
    "    pred_ids = pred_out.predictions  # ปกติ (array/tensor)\n",
    "\n",
    "# ===== 2) decode prediction เป็นข้อความ =====\n",
    "# pred_ids = pred_out.predictions                    # (num_samples, seq_len)\n",
    "pred_texts = tokenizer.batch_decode(pred_ids, skip_special_tokens=True)\n",
    "\n",
    "# ===== 3) (ถ้ามี labels) คำนวณ Accuracy + BLEU =====\n",
    "metrics = {}\n",
    "has_labels = False\n",
    "\n",
    "# กรณี datasets แบบ HF: มักมี .features (ถ้าไม่มีก็ลอง hasattr/try-except)\n",
    "try:\n",
    "    has_labels = \"labels\" in getattr(converted_dataset_test, \"features\", {})\n",
    "except Exception:\n",
    "    has_labels = False\n",
    "\n",
    "label_texts = []\n",
    "\n",
    "if has_labels:\n",
    "    # วิธีปลอดภัย: วนอ่าน labels จาก dataset ตรง ๆ\n",
    "    # (เพราะ pred_out.label_ids อาจไม่มี/shape ไม่ชัดในบางเวอร์ชัน)\n",
    "    for i in range(len(converted_dataset_test)):\n",
    "        ex = converted_dataset_test[i]\n",
    "        # label อาจอยู่ใน ex[\"labels\"] เป็น list[int]\n",
    "        lbl_ids = ex.get(\"labels\", None)\n",
    "        if lbl_ids is None:\n",
    "            label_texts.append(\"\")  # ไม่พบ label ในตัวอย่างนี้\n",
    "            continue\n",
    "        lbl_ids = np.array(lbl_ids, dtype=np.int64)\n",
    "        # แทน -100 ด้วย pad_token_id ก่อน decode\n",
    "        pad_id = tokenizer.pad_token_id or tokenizer.eos_token_id\n",
    "        lbl_ids = np.where(lbl_ids == -100, pad_id, lbl_ids)\n",
    "        label_texts.append(tokenizer.decode(lbl_ids, skip_special_tokens=True))\n",
    "\n",
    "    # ให้ความยาวตรงกันกับ pred_texts\n",
    "    if len(label_texts) > len(pred_texts):\n",
    "        label_texts = label_texts[:len(pred_texts)]\n",
    "    elif len(pred_texts) > len(label_texts):\n",
    "        pred_texts = pred_texts[:len(label_texts)]\n",
    "\n",
    "    # === Accuracy แบบ class-insensitive (ตรงกับนิยามของคุณ) ===\n",
    "    pred_classes = [extract_class(p) for p in pred_texts]\n",
    "    label_classes = [extract_class(l) or l.strip() for l in label_texts]\n",
    "\n",
    "    correct = 0\n",
    "    total = 0\n",
    "    for p_cls, l_cls in zip(pred_classes, label_classes):\n",
    "        if l_cls in ALLOWED_CLASSES:\n",
    "            total += 1\n",
    "            if p_cls == l_cls:\n",
    "                correct += 1\n",
    "    acc = (correct / total) if total > 0 else 0.0\n",
    "    metrics[\"eval_accuracy\"] = acc\n",
    "\n",
    "    # === BLEU เพื่อวัดความใกล้เคียงข้อความโดยรวม ===\n",
    "    try:\n",
    "        metrics[\"eval_bleu\"] = bleu_metric.compute(\n",
    "            predictions=[[p.strip().split()] for p in pred_texts],\n",
    "            references=[[[l.strip().split()]] for l in label_texts],\n",
    "        )[\"bleu\"]\n",
    "    except Exception:\n",
    "        metrics[\"eval_bleu\"] = float(\"nan\")\n",
    "\n",
    "# ===== 4) log metric เข้า TensorBoard/W&B และแสดงผล =====\n",
    "if metrics:\n",
    "    trainer.log(metrics)  # จะขึ้นกราฟถ้าตั้ง report_to=[\"tensorboard\"] หรือ [\"wandb\"]\n",
    "print(\"Manual eval:\", metrics)  # ex: {'eval_accuracy': 0.84, 'eval_bleu': 0.41}\n",
    "\n",
    "# (ถ้าเป็น blind ไม่มี labels: บันทึกผลทำนายส่งตรวจภายหลัง)\n",
    "if not has_labels:\n",
    "    import pandas as pd\n",
    "    # ถ้า dataset มีฟิลด์ 'id' ก็ใช้, ไม่มีก็สร้าง running index\n",
    "    ids = []\n",
    "    for i in range(len(converted_dataset_test)):\n",
    "        ex = converted_dataset_test[i]\n",
    "        ids.append(ex.get(\"id\", i))\n",
    "    df_submit = pd.DataFrame({\"id\": ids[:len(pred_texts)], \"prediction\": pred_texts})\n",
    "    df_submit.to_csv(\"submission_blind.csv\", index=False, encoding=\"utf-8-sig\")\n",
    "    print(\"Saved predictions -> submission_blind.csv\")\n"
   ]
  },
  {
   "cell_type": "markdown",
   "id": "1af9d5a1",
   "metadata": {},
   "source": [
    "### 8. ทดสอบโมเดลหลังฝึก\n",
    "\n",
    "รัน inference อีกครั้งเพื่อเปรียบเทียบ performance หลัง fine-tuning"
   ]
  },
  {
   "cell_type": "code",
   "execution_count": 15,
   "id": "2a7c4669",
   "metadata": {},
   "outputs": [
    {
     "name": "stdout",
     "output_type": "stream",
     "text": [
      "Class: Mediastinal_Changes\n",
      "Explanation: The chest X-ray shows increased transparency adjacent to both right and left cardiophrenic angles with variable clarity indicating partial atelectasis or pneumonia. This imaging feature suggests inflammatory change that is consistent with an underlying infectious etiology in this setting. The clinical scenario strongly supports infection leading to lung parenchymal changes. There are no visible effusions, mass lesions, or linear changes typical for entities like neoplasms or autoimmune conditions. The features are compatible with Degenerative_Infectious based on clinical and radiographic correlation, particularly considering the known clinical presentations associated with specific conditions in similar\n"
     ]
    }
   ],
   "source": [
    "FastVisionModel.for_inference(model) # Enable for inference!\n",
    "\n",
    "image = hf[0][\"image\"]\n",
    "instruction = \"Describe the chest X-ray using precise clinical terms. Identify one main diagnostic category from: Chest_Changes, Degenerative_Infectious, Higher_Density, Inflammatory_Pneumonia, Lower_Density, Mediastinal_Changes, Normal, or Obstructive.\"\n",
    "\n",
    "messages = [\n",
    "    {\"role\": \"user\", \"content\": [\n",
    "        {\"type\": \"image\"},\n",
    "        {\"type\": \"text\", \"text\": instruction}\n",
    "    ]}\n",
    "]\n",
    "input_text = tokenizer.apply_chat_template(messages, add_generation_prompt = True)\n",
    "inputs = tokenizer(\n",
    "    image,\n",
    "    input_text,\n",
    "    add_special_tokens = False,\n",
    "    return_tensors = \"pt\",\n",
    ").to(\"cuda\")\n",
    "\n",
    "from transformers import TextStreamer\n",
    "text_streamer = TextStreamer(tokenizer, skip_prompt = True)\n",
    "_ = model.generate(**inputs, streamer = text_streamer, max_new_tokens = 128,\n",
    "                    use_cache = True, temperature = 1.5, min_p = 0.1)"
   ]
  },
  {
   "cell_type": "markdown",
   "id": "fe4da832",
   "metadata": {},
   "source": [
    "### 9. บันทึกโมเดล\n",
    "\n",
    "- บันทึกเฉพาะ LoRA adapters ไม่ใช่ full model\n",
    "- สามารถโหลดกลับมาใช้ใหม่ได้"
   ]
  },
  {
   "cell_type": "code",
   "execution_count": 16,
   "id": "0dae39c9",
   "metadata": {},
   "outputs": [
    {
     "name": "stdout",
     "output_type": "stream",
     "text": [
      "✅ Model saved to: lora_model_20251005_175200\n"
     ]
    }
   ],
   "source": [
    "from datetime import datetime\n",
    "import os\n",
    "\n",
    "timestamp = datetime.now().strftime(\"%Y%m%d_%H%M%S\")  # เช่น 20251004_1658\n",
    "save_dir = f\"lora_model_{timestamp}\"\n",
    "\n",
    "os.makedirs(save_dir, exist_ok=True)\n",
    "model.save_pretrained(save_dir)\n",
    "tokenizer.save_pretrained(save_dir)\n",
    "\n",
    "print(f\"✅ Model saved to: {save_dir}\")"
   ]
  },
  {
   "cell_type": "markdown",
   "id": "e9d525bf",
   "metadata": {},
   "source": [
    "ตอนนี้หากคุณต้องการโหลดอะแดปเตอร์ LoRA ที่เราเพิ่งบันทึกไว้สำหรับการอนุมาน ให้ตั้งค่า False ถึง True"
   ]
  },
  {
   "cell_type": "code",
   "execution_count": null,
   "id": "6bd6718e",
   "metadata": {},
   "outputs": [],
   "source": [
    "if True:\n",
    "    from unsloth import FastVisionModel\n",
    "    model, tokenizer = FastVisionModel.from_pretrained(\n",
    "        model_name = \"lora_model_20251005_175200\", # YOUR MODEL YOU USED FOR TRAINING\n",
    "        load_in_4bit = True, # Set to False for 16bit LoRA\n",
    "    )\n",
    "    FastVisionModel.for_inference(model) # Enable for inference!\n",
    "\n",
    "image = hf[0][\"image\"]\n",
    "instruction = \"Describe the chest X-ray using precise clinical terms. Identify one main diagnostic category from: Chest_Changes, Degenerative_Infectious, Higher_Density, Inflammatory_Pneumonia, Lower_Density, Mediastinal_Changes, Normal, or Obstructive.\"\n",
    "\n",
    "messages = [\n",
    "    {\"role\": \"user\", \"content\": [\n",
    "        {\"type\": \"image\"},\n",
    "        {\"type\": \"text\", \"text\": instruction}\n",
    "    ]}\n",
    "]\n",
    "input_text = tokenizer.apply_chat_template(messages, add_generation_prompt = True)\n",
    "inputs = tokenizer(\n",
    "    image,\n",
    "    input_text,\n",
    "    add_special_tokens = False,\n",
    "    return_tensors = \"pt\",\n",
    ").to(\"cuda\")\n",
    "\n",
    "from transformers import TextStreamer\n",
    "text_streamer = TextStreamer(tokenizer, skip_prompt = True)\n",
    "_ = model.generate(**inputs, streamer = text_streamer, max_new_tokens = 128,\n",
    "                    use_cache = True, temperature = 1.5, min_p = 0.1)    "
   ]
  }
 ],
 "metadata": {
  "kernelspec": {
   "display_name": "lung_lora",
   "language": "python",
   "name": "python3"
  },
  "language_info": {
   "codemirror_mode": {
    "name": "ipython",
    "version": 3
   },
   "file_extension": ".py",
   "mimetype": "text/x-python",
   "name": "python",
   "nbconvert_exporter": "python",
   "pygments_lexer": "ipython3",
   "version": "3.10.18"
  }
 },
 "nbformat": 4,
 "nbformat_minor": 5
}
