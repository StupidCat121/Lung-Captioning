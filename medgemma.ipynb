{
 "cells": [
  {
   "cell_type": "code",
   "execution_count": 4,
   "id": "b2708850",
   "metadata": {},
   "outputs": [],
   "source": [
    "from transformers import AutoProcessor, AutoModelForImageTextToText, BitsAndBytesConfig\n",
    "from PIL import Image\n",
    "import requests\n",
    "import torch"
   ]
  },
  {
   "cell_type": "code",
   "execution_count": 5,
   "id": "83a94dd8",
   "metadata": {},
   "outputs": [
    {
     "name": "stdout",
     "output_type": "stream",
     "text": [
      "device: cuda\n"
     ]
    }
   ],
   "source": [
    "device = \"cuda\" if torch.cuda.is_available() else \"cpu\"\n",
    "print(\"device:\", device)"
   ]
  },
  {
   "cell_type": "code",
   "execution_count": null,
   "id": "e865eff5",
   "metadata": {},
   "outputs": [],
   "source": [
    "model_id = \"google/medgemma-4b-it\"\n",
    "# model_id = \"./models/medgemma-4b-it\"  # path local\n",
    "\n",
    "bnb_cfg = BitsAndBytesConfig(load_in_4bit=True, bnb_4bit_compute_dtype=torch.float16)\n",
    "\n",
    "model = AutoModelForImageTextToText.from_pretrained(\n",
    "    model_id,\n",
    "    quantization_config=bnb_cfg,    # ใช้ quantization\n",
    "    device_map=\"auto\",              # กระจาย GPU/CPU อัตโนมัติ\n",
    "    max_memory={0: \"6GiB\", \"cpu\": \"30GiB\"},  # กัน OOM\n",
    "    trust_remote_code=True,\n",
    "    local_files_only=True,          # path local\n",
    ")\n",
    "\n",
    "processor = AutoProcessor.from_pretrained(\n",
    "    model_id,\n",
    "    trust_remote_code=True,\n",
    "    local_files_only=True,          # path local\n",
    ")"
   ]
  },
  {
   "cell_type": "code",
   "execution_count": 22,
   "id": "571d6dfb",
   "metadata": {},
   "outputs": [],
   "source": [
    "# โหลดและย่อภาพเพื่อลด token\n",
    "\n",
    "# image_url = \"https://upload.wikimedia.org/wikipedia/commons/c/c8/Chest_Xray_PA_3-8-2010.png\"\n",
    "# image = Image.open(requests.get(image_url, stream=True).raw)\n",
    "\n",
    "image_path = \"./img/Chest_Xray_1.png\"\n",
    "image = Image.open(image_path)\n",
    "\n",
    "messages = [\n",
    "    {\"role\": \"system\", \"content\": [{\"type\": \"text\", \"text\": \"You are an expert radiologist.\"}]},\n",
    "    {\"role\": \"user\", \"content\": [\n",
    "        {\"type\": \"text\", \"text\": \"Describe this X-ray\"},\n",
    "        {\"type\": \"image\", \"image\": image}\n",
    "    ]}\n",
    "]"
   ]
  },
  {
   "cell_type": "code",
   "execution_count": 23,
   "id": "262612f1",
   "metadata": {},
   "outputs": [
    {
     "name": "stdout",
     "output_type": "stream",
     "text": [
      "<class 'str'>\n",
      "0\n",
      "\n"
     ]
    }
   ],
   "source": [
    "# เตรียม input tensors\n",
    "inputs = processor.apply_chat_template(\n",
    "    messages, add_generation_prompt=True, tokenize=True,\n",
    "    return_dict=True, return_tensors=\"pt\"\n",
    ").to(model.device, dtype=torch.bfloat16)\n",
    "\n",
    "input_len = inputs[\"input_ids\"].shape[-1]\n",
    "\n",
    "# inference แบบประหยัด\n",
    "with torch.inference_mode():\n",
    "    generation = model.generate(\n",
    "        **inputs,\n",
    "        max_new_tokens=200,    # ลดความยาว output\n",
    "        do_sample=False,      # deterministic\n",
    "        use_cache=True,\n",
    "    )\n",
    "    generation = generation[0][input_len:]\n",
    "\n",
    "decoded = processor.decode(generation, skip_special_tokens=True)\n",
    "print(type(decoded))\n",
    "print(len(decoded))\n",
    "print(decoded)"
   ]
  },
  {
   "cell_type": "code",
   "execution_count": 26,
   "id": "bf7981a7",
   "metadata": {},
   "outputs": [
    {
     "name": "stdout",
     "output_type": "stream",
     "text": [
      "dict_keys(['text_config', 'vision_config', 'mm_tokens_per_image', 'boi_token_index', 'eoi_token_index', 'image_token_index', 'initializer_range', 'return_dict', 'output_hidden_states', 'torchscript', 'dtype', 'pruned_heads', 'tie_word_embeddings', 'chunk_size_feed_forward', 'is_encoder_decoder', 'is_decoder', 'cross_attention_hidden_size', 'add_cross_attention', 'tie_encoder_decoder', 'architectures', 'finetuning_task', 'id2label', 'label2id', 'task_specific_params', 'problem_type', 'tokenizer_class', 'prefix', 'bos_token_id', 'pad_token_id', 'eos_token_id', 'sep_token_id', 'decoder_start_token_id', 'max_length', 'min_length', 'do_sample', 'early_stopping', 'num_beams', 'temperature', 'top_k', 'top_p', 'typical_p', 'repetition_penalty', 'length_penalty', 'no_repeat_ngram_size', 'encoder_no_repeat_ngram_size', 'bad_words_ids', 'num_return_sequences', 'output_scores', 'return_dict_in_generate', 'forced_bos_token_id', 'forced_eos_token_id', 'remove_invalid_values', 'exponential_decay_length_penalty', 'suppress_tokens', 'begin_suppress_tokens', 'num_beam_groups', 'diversity_penalty', '_name_or_path', 'transformers_version', 'model_type', 'quantization_config', 'output_attentions'])\n",
      "False\n"
     ]
    }
   ],
   "source": [
    "print(model.config.to_dict().keys())\n",
    "print(model.config.output_attentions)"
   ]
  },
  {
   "cell_type": "code",
   "execution_count": 27,
   "id": "d66ad815",
   "metadata": {},
   "outputs": [
    {
     "name": "stdout",
     "output_type": "stream",
     "text": [
      "<class 'tuple'>\n"
     ]
    }
   ],
   "source": [
    "with torch.inference_mode():\n",
    "    out = model(\n",
    "        **inputs,\n",
    "        output_attentions=True,\n",
    "        return_dict=True,\n",
    "        use_cache=False\n",
    "    )\n",
    "\n",
    "print(type(out.attentions))"
   ]
  },
  {
   "cell_type": "code",
   "execution_count": 28,
   "id": "a614bc36",
   "metadata": {},
   "outputs": [
    {
     "name": "stdout",
     "output_type": "stream",
     "text": [
      "len attentions : 34\n",
      "out.attentions : (None, None, None, None, None, None, None, None, None, None, None, None, None, None, None, None, None, None, None, None, None, None, None, None, None, None, None, None, None, None, None, None, None, None)\n"
     ]
    }
   ],
   "source": [
    "print(f\"len attentions : {len(out.attentions)}\")      # จำนวนเลเยอร์\n",
    "print(f\"out.attentions : {out.attentions}\")           # เลเยอร์สุดท้าย"
   ]
  },
  {
   "cell_type": "markdown",
   "id": "4b786466",
   "metadata": {},
   "source": [
    "✅ สรุปสั้น ๆ\n",
    "* (None, None, …) = โมเดลนี้ไม่รองรับการดึง attention matrix โดยตรง\n",
    "\n",
    "* แม้จะใส่ output_attentions=True ก็จะได้ None เพราะทีม Google ไม่ expose ค่าเหล่านี้ออกมาใน checkpoint"
   ]
  }
 ],
 "metadata": {
  "kernelspec": {
   "display_name": "lung_caption_env",
   "language": "python",
   "name": "python3"
  },
  "language_info": {
   "codemirror_mode": {
    "name": "ipython",
    "version": 3
   },
   "file_extension": ".py",
   "mimetype": "text/x-python",
   "name": "python",
   "nbconvert_exporter": "python",
   "pygments_lexer": "ipython3",
   "version": "3.10.18"
  }
 },
 "nbformat": 4,
 "nbformat_minor": 5
}
